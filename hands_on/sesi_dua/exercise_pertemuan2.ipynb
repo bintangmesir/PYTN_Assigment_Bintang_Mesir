{
  "nbformat": 4,
  "nbformat_minor": 0,
  "metadata": {
    "colab": {
      "provenance": []
    },
    "kernelspec": {
      "name": "python3",
      "display_name": "Python 3"
    },
    "language_info": {
      "name": "python"
    }
  },
  "cells": [
    {
      "cell_type": "code",
      "execution_count": null,
      "metadata": {
        "colab": {
          "base_uri": "https://localhost:8080/"
        },
        "id": "yuwDnbE8YNGj",
        "outputId": "3c6746e9-4a14-48b1-a57a-12ce59b0c89a"
      },
      "outputs": [
        {
          "name": "stdout",
          "output_type": "stream",
          "text": [
            "Masukkan Angka : 5 -5 10 100 25 30\n"
          ]
        },
        {
          "output_type": "execute_result",
          "data": {
            "text/plain": [
              "[25, -25, 50, 500, 125, 150]"
            ]
          },
          "metadata": {},
          "execution_count": 27
        }
      ],
      "source": [
        "data = []\n",
        "x = input('Masukkan Angka : ').split()\n",
        "\n",
        "def input_data(array):\n",
        "    for j in array:\n",
        "      data.append(int(j) * 5)\n",
        "    return data\n",
        "\n",
        "input_data(x)"
      ]
    },
    {
      "cell_type": "code",
      "source": [
        "import math\n",
        "\n",
        "data = []\n",
        "mean = 0\n",
        "varian = 0\n",
        "\n",
        "n = int(input('Masukkan Banyaknya Data: '))\n",
        "\n",
        "for i in range(0, n):\n",
        "    input_data(i)\n",
        "\n",
        "def input_data(i):\n",
        "    x = int(input('Data ke -' + str(i + 1) + ' : '))\n",
        "    data.append(x)\n",
        "\n",
        "def rata_rata(data):\n",
        "  global mean\n",
        "  sum = 0\n",
        "  for i in data:\n",
        "    sum = sum + i\n",
        "    mean = sum / len(data)\n",
        "  return mean\n",
        "\n",
        "def varian_data(data, rata):\n",
        "  global varian\n",
        "  total = 0\n",
        "  for i in data:\n",
        "    x = (i - rata) ** 2\n",
        "    total = total + x\n",
        "  varian = total / (len(data) - 1)\n",
        "  return varian\n",
        "    \n",
        "def standar_deviasi(varian):\n",
        "  return math.sqrt(varian)\n",
        "\n",
        "print(data)\n",
        "print('Rata-Ratanya Adalah :', rata_rata(data))\n",
        "print('Variansinya Adalah :', varian_data(data, mean))\n",
        "print('Standar Deviasinya Adalah', standar_deviasi(varian))"
      ],
      "metadata": {
        "colab": {
          "base_uri": "https://localhost:8080/"
        },
        "id": "n3IF2Mn_Yae1",
        "outputId": "a5d13bd8-fe16-46a3-fe72-66519d3ecb25"
      },
      "execution_count": null,
      "outputs": [
        {
          "output_type": "stream",
          "name": "stdout",
          "text": [
            "Masukkan Banyaknya Data: 5\n",
            "Data ke -1 : 1\n",
            "Data ke -2 : 2\n",
            "Data ke -3 : 3\n",
            "Data ke -4 : 4\n",
            "Data ke -5 : 5\n",
            "[1, 2, 3, 4, 5]\n",
            "Rata-Ratanya Adalah : 3.0\n",
            "Variansinya Adalah : 2.5\n",
            "Standar Deviasinya Adalah 1.5811388300841898\n"
          ]
        }
      ]
    },
    {
      "cell_type": "code",
      "source": [
        "data_sorting = []\n",
        "\n",
        "x = input('Masukkan Angka : ').split()\n",
        "\n",
        "\n",
        "def sorting(array):\n",
        "  for i in array:\n",
        "    data_sorting.append(int(i))\n",
        "    data_sorting.sort()\n",
        "  return data_sorting\n",
        "\n",
        "print(x)\n",
        "print('Hasil Sorting :', sorting(x))\n",
        "print('Nilai Terbesar Dari Data Adalah :', data_sorting[-1])\n",
        "print('Nilai Terbesar Dari Data Adalah :', data_sorting[0])"
      ],
      "metadata": {
        "colab": {
          "base_uri": "https://localhost:8080/"
        },
        "id": "k4x7JQ-WvByx",
        "outputId": "6ff3edfd-7dfc-4da6-a5f5-d72a25a1fb42"
      },
      "execution_count": null,
      "outputs": [
        {
          "output_type": "stream",
          "name": "stdout",
          "text": [
            "Masukkan Angka : 1 5 7 4\n",
            "['1', '5', '7', '4']\n",
            "Hasil Sorting : [1, 4, 5, 7]\n",
            "Nilai Terbesar Dari Data Adalah : 7\n",
            "Nilai Terbesar Dari Data Adalah : 1\n"
          ]
        }
      ]
    },
    {
      "cell_type": "code",
      "source": [
        "data_array = []\n",
        "\n",
        "x = input('Masukkan Sebuah Kalimat : ').split()\n",
        "\n",
        "def reverse(array):\n",
        "  string_array = ''\n",
        "  for i in array:\n",
        "    data_array.append(i[::-1])\n",
        "  \n",
        "  for i in data_array:\n",
        "    string_array = string_array + i + \" \"\n",
        "  return string_array\n",
        "\n",
        "reverse(x)"
      ],
      "metadata": {
        "colab": {
          "base_uri": "https://localhost:8080/",
          "height": 53
        },
        "id": "D1925uSq6521",
        "outputId": "f0203f7a-26b6-4d58-8fb9-c12ea07803ba"
      },
      "execution_count": null,
      "outputs": [
        {
          "name": "stdout",
          "output_type": "stream",
          "text": [
            "Masukkan Sebuah Kalimat : saya manusia yang tidak kenal takut\n"
          ]
        },
        {
          "output_type": "execute_result",
          "data": {
            "text/plain": [
              "'ayas aisunam gnay kadit lanek tukat '"
            ],
            "application/vnd.google.colaboratory.intrinsic+json": {
              "type": "string"
            }
          },
          "metadata": {},
          "execution_count": 86
        }
      ]
    },
    {
      "cell_type": "code",
      "source": [
        "x = input('Masukkan sebuah kalimat : ')\n",
        "\n",
        "\n",
        "def count_string(array_string):\n",
        "  lower = 0\n",
        "  upper = 0\n",
        "  string = ''\n",
        "\n",
        "  for i in array_string:\n",
        "    string += i\n",
        "\n",
        "  for i in string:\n",
        "      if(i.islower()):\n",
        "        lower+=1\n",
        "      elif(i.isupper()):\n",
        "        upper+=1\n",
        "  return upper, lower\n",
        "\n",
        "result = count_string(x.split())\n",
        "print('Kalimat Original : ', x)\n",
        "print('Banyaknya Jumlah Huruf Kapital Dalam Kalimat Adalah : ', result[0])\n",
        "print('Banyaknya Jumlah Huruf NonKapital Dalam Kalimat Adalah : ', result[1])"
      ],
      "metadata": {
        "colab": {
          "base_uri": "https://localhost:8080/"
        },
        "id": "yQL8AUPm-CWT",
        "outputId": "b699f214-137b-49f6-caf0-e9b84b839ded"
      },
      "execution_count": null,
      "outputs": [
        {
          "output_type": "stream",
          "name": "stdout",
          "text": [
            "Masukkan sebuah kalimat : Bintang 123\n",
            "Kalimat Original :  Bintang 123\n",
            "Banyaknya Jumlah Huruf Kapital Dalam Kalimat Adalah :  1\n",
            "Banyaknya Jumlah Huruf NonKapital Dalam Kalimat Adalah :  6\n"
          ]
        }
      ]
    }
  ]
}