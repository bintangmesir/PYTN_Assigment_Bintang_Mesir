{
  "nbformat": 4,
  "nbformat_minor": 0,
  "metadata": {
    "colab": {
      "provenance": []
    },
    "kernelspec": {
      "name": "python3",
      "display_name": "Python 3"
    },
    "language_info": {
      "name": "python"
    }
  },
  "cells": [
    {
      "cell_type": "markdown",
      "source": [
        "#Soal Nomor 1"
      ],
      "metadata": {
        "id": "zh9XsxF1p9zj"
      }
    },
    {
      "cell_type": "code",
      "execution_count": null,
      "metadata": {
        "colab": {
          "base_uri": "https://localhost:8080/"
        },
        "id": "JOry2_wBb35E",
        "outputId": "ea09b0b6-72c3-40dd-f13f-8e70b9f62274"
      },
      "outputs": [
        {
          "name": "stdout",
          "output_type": "stream",
          "text": [
            "Mulai : 1\n",
            "Selesai : 28\n"
          ]
        }
      ],
      "source": [
        "import numpy as np\n",
        "\n",
        "#input\n",
        "start = int(input('Mulai : '))\n",
        "end = int(input('Selesai : '))"
      ]
    },
    {
      "cell_type": "code",
      "source": [
        "#1 Dimensi\n",
        "arr = np.arange(start, end)\n",
        "print(arr)"
      ],
      "metadata": {
        "colab": {
          "base_uri": "https://localhost:8080/"
        },
        "id": "JlfOsS89nLho",
        "outputId": "d3a36496-e8fb-4dfd-da70-6b8243676a41"
      },
      "execution_count": null,
      "outputs": [
        {
          "output_type": "stream",
          "name": "stdout",
          "text": [
            "[ 1  2  3  4  5  6  7  8  9 10 11 12 13 14 15 16 17 18 19 20 21 22 23 24\n",
            " 25 26 27]\n"
          ]
        }
      ]
    },
    {
      "cell_type": "code",
      "source": [
        "# 2 Dimensi\n",
        "\n",
        "if len(arr) %2 == 1:\n",
        "  column = int(len(arr)**(1/3))\n",
        "  row = int(column**2)\n",
        "else:\n",
        "  column = int(len(arr)**(1/2))\n",
        "  row = column\n",
        "\n",
        "arr2 = arr.reshape(column, row)\n",
        "print(arr2)"
      ],
      "metadata": {
        "colab": {
          "base_uri": "https://localhost:8080/"
        },
        "id": "T1wBrWoVnOZV",
        "outputId": "471f4b46-cdc2-4611-d819-9e1f421ca9c4"
      },
      "execution_count": null,
      "outputs": [
        {
          "output_type": "stream",
          "name": "stdout",
          "text": [
            "[[ 1  2  3  4  5  6  7  8  9]\n",
            " [10 11 12 13 14 15 16 17 18]\n",
            " [19 20 21 22 23 24 25 26 27]]\n"
          ]
        }
      ]
    },
    {
      "cell_type": "code",
      "source": [
        "#3 Dimensi\n",
        "arr3 = arr2.reshape(column, column, column)\n",
        "print(arr3)"
      ],
      "metadata": {
        "colab": {
          "base_uri": "https://localhost:8080/"
        },
        "id": "EFCfzq7lnTKW",
        "outputId": "2c154286-a9e0-42d0-9810-d51c90c790a8"
      },
      "execution_count": null,
      "outputs": [
        {
          "output_type": "stream",
          "name": "stdout",
          "text": [
            "[[[ 1  2  3]\n",
            "  [ 4  5  6]\n",
            "  [ 7  8  9]]\n",
            "\n",
            " [[10 11 12]\n",
            "  [13 14 15]\n",
            "  [16 17 18]]\n",
            "\n",
            " [[19 20 21]\n",
            "  [22 23 24]\n",
            "  [25 26 27]]]\n"
          ]
        }
      ]
    },
    {
      "cell_type": "markdown",
      "source": [
        "#Soal Nomor 2"
      ],
      "metadata": {
        "id": "dqWIUpJwqPOs"
      }
    },
    {
      "cell_type": "code",
      "source": [
        "import random\n",
        "\n",
        "#input\n",
        "length = int(input('Banyak Data : '))\n",
        "start = int(input('Mulai : '))\n",
        "end = int(input('Selesai : '))\n"
      ],
      "metadata": {
        "colab": {
          "base_uri": "https://localhost:8080/"
        },
        "id": "WHw6TJEmqVFH",
        "outputId": "dcf96797-cf29-4959-bbdf-1127dfb5efbb"
      },
      "execution_count": null,
      "outputs": [
        {
          "name": "stdout",
          "output_type": "stream",
          "text": [
            "Banyak Data : 16\n",
            "Mulai : 1\n",
            "Selesai : 50\n"
          ]
        }
      ]
    },
    {
      "cell_type": "code",
      "source": [
        "#bangkitkan array 1 dimensi dari random integer\n",
        "arr = []\n",
        "\n",
        "for i in range(length):\n",
        "  arr.append(random.randint(start, end))\n",
        "\n",
        "print(arr)"
      ],
      "metadata": {
        "colab": {
          "base_uri": "https://localhost:8080/"
        },
        "id": "jeu9eK-SqqZz",
        "outputId": "9fe9990c-cdd4-4b62-f5d5-4ce5b146f06f"
      },
      "execution_count": null,
      "outputs": [
        {
          "output_type": "stream",
          "name": "stdout",
          "text": [
            "[5, 26, 47, 20, 48, 42, 27, 6, 31, 23, 31, 4, 28, 17, 29, 31]\n"
          ]
        }
      ]
    },
    {
      "cell_type": "code",
      "source": [
        "# 2 Dimensi\n",
        "import numpy as np\n",
        "\n",
        "if len(arr) %2 == 1:\n",
        "  column = int(len(arr)**(1/3))\n",
        "  row = int(column**2)\n",
        "else:\n",
        "  column = int(len(arr)**(1/2))\n",
        "  row = column\n",
        "\n",
        "numpy_arr = np.array(arr)\n",
        "arr2 = numpy_arr.reshape(column, row)\n",
        "print(arr2)"
      ],
      "metadata": {
        "colab": {
          "base_uri": "https://localhost:8080/"
        },
        "id": "UBaa7LH8ug9D",
        "outputId": "4f3b6d1e-377d-43e3-e9aa-a8760f05da26"
      },
      "execution_count": null,
      "outputs": [
        {
          "output_type": "stream",
          "name": "stdout",
          "text": [
            "[[ 5 26 47 20]\n",
            " [48 42 27  6]\n",
            " [31 23 31  4]\n",
            " [28 17 29 31]]\n"
          ]
        }
      ]
    },
    {
      "cell_type": "code",
      "source": [
        "arr_reverse = []\n",
        "for i in arr2:\n",
        "  arr_reverse.append(i[::-1])\n",
        "print(np.array(arr_reverse))"
      ],
      "metadata": {
        "colab": {
          "base_uri": "https://localhost:8080/"
        },
        "id": "11wuAlifzzrk",
        "outputId": "12a1e1db-ce23-4f01-a6df-1aee6147e6cf"
      },
      "execution_count": null,
      "outputs": [
        {
          "output_type": "stream",
          "name": "stdout",
          "text": [
            "[[20 47 26  5]\n",
            " [ 6 27 42 48]\n",
            " [ 4 31 23 31]\n",
            " [31 29 17 28]]\n"
          ]
        }
      ]
    },
    {
      "cell_type": "code",
      "source": [
        "import numpy as np\n",
        "arr2 = []\n",
        "for i in range (0,10):\n",
        "  arr = []\n",
        "  if i == 0 or i == 9:\n",
        "    for i in range (0,10):\n",
        "      arr.append(4.)\n",
        "  else:\n",
        "    for i in range (0,10):\n",
        "      if i == 0 or i == 9:\n",
        "        arr.append(4.)\n",
        "      else:\n",
        "        arr.append(0.)\n",
        "  arr2.append(arr)\n",
        "\n",
        "print(arr2)"
      ],
      "metadata": {
        "colab": {
          "base_uri": "https://localhost:8080/"
        },
        "id": "_e7spcoD5mvp",
        "outputId": "9d042a32-9c10-4f5c-876f-5b5607ac8dae"
      },
      "execution_count": null,
      "outputs": [
        {
          "output_type": "stream",
          "name": "stdout",
          "text": [
            "[10]\n"
          ]
        }
      ]
    }
  ]
}