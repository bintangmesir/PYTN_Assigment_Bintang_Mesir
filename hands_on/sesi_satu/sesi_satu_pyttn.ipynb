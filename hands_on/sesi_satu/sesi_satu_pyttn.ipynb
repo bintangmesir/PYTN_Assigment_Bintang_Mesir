{
  "nbformat": 4,
  "nbformat_minor": 0,
  "metadata": {
    "colab": {
      "provenance": []
    },
    "kernelspec": {
      "name": "python3",
      "display_name": "Python 3"
    },
    "language_info": {
      "name": "python"
    }
  },
  "cells": [
    {
      "cell_type": "code",
      "execution_count": null,
      "metadata": {
        "colab": {
          "base_uri": "https://localhost:8080/"
        },
        "id": "RwW6HZiPmjKC",
        "outputId": "e62e4259-d2ca-4deb-b21a-0521d2634d94"
      },
      "outputs": [
        {
          "output_type": "stream",
          "name": "stdout",
          "text": [
            "Masukkan angka : 8\n",
            "Angka 8 tergolong bilangan GENAP!\n"
          ]
        }
      ],
      "source": [
        "x = int(input('Masukkan angka : '))\n",
        "\n",
        "if x % 2 == 0:\n",
        "  print(\"Angka \" + str(x) + \" tergolong bilangan GENAP!\")\n",
        "else:\n",
        "  print(\"Angka \" + str(x) + \" tergolong bilangan GANJIL!\")"
      ]
    },
    {
      "cell_type": "code",
      "source": [
        "apel = int(input('Masukkan Jumlah Apel : '))\n",
        "jeruk = int(input('Masukkan Jumlah Jeruk : '))\n",
        "anggur = int(input('Masukkan Jumlah Anggur : '))\n",
        "total = apel*10000 + jeruk*15000 + anggur*20000\n",
        "\n",
        "print('Detail Belanja \\nApel : ' + str(apel) + ' x 10000 = ' + str(apel*10000) + '\\nJeruk : ' + str(jeruk) + ' x 15000 = ' + str(jeruk*15000) + '\\nAnggur : ' + str(anggur) + ' x 20000 = ' + str(anggur*20000))\n",
        "\n",
        "print('Total : ' + str(total))\n",
        "\n",
        "uang = int(input('Masukkan jumlah uang : '))\n",
        "\n",
        "if uang > total:\n",
        "  print('Terima kasih\\n')\n",
        "  print('Uang kembali anda : ' + str(uang - total))\n",
        "elif uang == total:\n",
        "  print('Terima kasih')\n",
        "else:\n",
        "  print('Transaksi anda dibatalkan uangnya kurang sebesar ' + str(total - uang))"
      ],
      "metadata": {
        "colab": {
          "base_uri": "https://localhost:8080/"
        },
        "id": "guyYAXJenLwb",
        "outputId": "827410ee-e276-4b01-8320-7808359b957e"
      },
      "execution_count": null,
      "outputs": [
        {
          "output_type": "stream",
          "name": "stdout",
          "text": [
            "Masukkan Jumlah Apel : 3\n",
            "Masukkan Jumlah Jeruk : 2\n",
            "Masukkan Jumlah Anggur : 5\n",
            "Detail Belanja \n",
            "Apel : 3 x 10000 = 30000\n",
            "Jeruk : 2 x 15000 = 30000\n",
            "Anggur : 5 x 20000 = 100000\n",
            "Total : 160000\n",
            "Masukkan jumlah uang : 175000\n",
            "Terima kasih\n",
            "\n",
            "Uang kembali anda : 15000\n"
          ]
        }
      ]
    },
    {
      "cell_type": "code",
      "source": [
        "massa = int(input('Masukkan Massa (kg) : '))\n",
        "tinggi = int(input('Masukkan Tinggi (cm) : '))\n",
        "print('Massa ' + str(massa) + ' kg dan tinggi ' + str(tinggi))\n",
        "\n",
        "imt = massa / (tinggi * 0.01) ** 2\n",
        "\n",
        "if imt > 39.9:\n",
        "  print('IMT = ' + str(imt) + ', BERAT BADAN OBESITAS!')\n",
        "elif 39.9 > imt > 30.0:\n",
        "  print('IMT = ' + str(imt) + ', BERAT BADAN SANGAT BERLEBIH!')\n",
        "elif 29.9 > imt > 25.0:\n",
        "  print('IMT = ' + str(imt) + ', BERAT BADAN BERLEBIH!')\n",
        "elif 24.9 > imt > 18.5:\n",
        "  print('IMT = ' + str(imt) + ', BERAT BADAN IDEAL!')\n",
        "else:\n",
        "  print('IMT = ' + str(imt) + ', BERAT BADAN KURANG!')"
      ],
      "metadata": {
        "colab": {
          "base_uri": "https://localhost:8080/"
        },
        "id": "HLBegEajq-Hq",
        "outputId": "b2b2fc66-3954-4630-85cf-f9b278d1a28d"
      },
      "execution_count": null,
      "outputs": [
        {
          "output_type": "stream",
          "name": "stdout",
          "text": [
            "Masukkan Massa (kg) : 67\n",
            "Masukkan Tinggi (cm) : 178\n",
            "Massa 67 kg dan tinggi 178\n",
            "IMT = 21.146319909102385, BERAT BADAN IDEAL!\n"
          ]
        }
      ]
    }
  ]
}