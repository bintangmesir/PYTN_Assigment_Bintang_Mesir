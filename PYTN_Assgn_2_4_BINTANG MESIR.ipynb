{
 "cells": [
  {
   "attachments": {},
   "cell_type": "markdown",
   "id": "ddac0b9a",
   "metadata": {},
   "source": [
    "# Introduction"
   ]
  },
  {
   "attachments": {},
   "cell_type": "markdown",
   "id": "3de1213a",
   "metadata": {},
   "source": [
    "Tugas ini dibuat dan disajikan untuk memenuhi Assignment 2"
   ]
  },
  {
   "attachments": {},
   "cell_type": "markdown",
   "id": "443d0284",
   "metadata": {},
   "source": [
    "# Project Overview"
   ]
  },
  {
   "attachments": {},
   "cell_type": "markdown",
   "id": "7e61756f",
   "metadata": {},
   "source": [
    "Dataset NYC Property Sales From Kaggle. This dataset is a record of <b>every building</b> or building unit (apartment, etc) sold in New York City property market over a 12-month period from September 2016 to September 2017.\n",
    "Dataset Descriptions"
   ]
  },
  {
   "attachments": {},
   "cell_type": "markdown",
   "id": "95e0ccae",
   "metadata": {},
   "source": [
    "<b>Dataset Descriptions</b>"
   ]
  },
  {
   "attachments": {},
   "cell_type": "markdown",
   "id": "8acb13c9",
   "metadata": {},
   "source": [
    "<ol>\n",
    "<li>BOROUGH : kode digit yang menyatakan wilayah dari lokasi properti</li>\n",
    "    <li>BLOCK and LOT: A Tax Block is a sub-division of the borough on which real properties are located. The Department of Finance uses a Borough-Block-Lot classification to label all real property in the City. “Whereas” addresses describe the street location of a property, the block and lot distinguishes one unit of real property from another, such as the different condominiums in a single building. Also, block and lots are not subject to name changes based on which side of the parcel the building puts its entrance on. A Tax Lot is a subdivision of a Tax Block and represents the property unique location. Because there are more than 11k unique blocks in the dataset, it doesn't make sense to define it as a categorical variable! Will leave it as numerical. The same story for LOT</li>\n",
    "    <li>NEIGHBORHOOD: Department of Finance assessors determine the neighborhood name in the course of valuing properties. The common name of the neighborhood is generally the same as the name Finance designates. However, there may be slight differences in neighborhood boundary lines and some sub-neighborhoods may not be included. This variable should be categorical.</li>\n",
    "    <li>BUILDING CLASS CATEGORY: This is a field that we are including so that users of the Rolling Sales Files can easily identify similar properties by broad usage (e.g. One Family Homes) without looking up individual Building Classes. Files are sorted by Borough, Neighborhood, Building Class Category, Block and Lot. This variable should be categorical.</li>\n",
    "    <li>TAX CLASS AT PRESENT Every property in the city is assigned to one of four tax classes (Classes 1, 2, 3, and 4), based on the use of the property. This variable should be categorical.</li>\n",
    "    <li>BUILDING CLASS AT PRESENT: The Building Classification is used to describe a property’s constructive use. The first position of the Building Class is a letter that is used to describe a general class of properties (for example “A” signifies one-family homes, “O” signifies office buildings. “R” signifies condominiums). The second position, a number, adds more specific information about the property’s use or construction style (using our previous examples “A0” is a Cape Cod style one family home, “O4” is a tower type office building and “R5” is a commercial condominium unit). The term Building Class used by the Department of Finance is interchangeable with the term Building Code used by the Department of Buildings. This variable should be categorical.</li>\n",
    "    <li>ADDRESS: The street address of the property as listed on the Sales File. Coop sales include the apartment number in the address field. We are not going to extract any information from the address in this course!</li>\n",
    "    <li>ZIP CODE: The property’s postal code. This variable should be categorical.</li>\n",
    "    <li>RESIDENTIAL UNITS : The number of residential units at the listed property. This variable should be numeric</li>\n",
    "    <li>COMMERCIAL UNITS :The number of commercial units at the listed property. This variable should be numeric</li>\n",
    "    <li>TOTAL UNITS :The total number of units at the listed property. This variable should be numeric</li>\n",
    "    <li>LAND SQUARE FEET : The land area of the property listed in square feet. This variable should be numeric</li>\n",
    "    <li>GROSS SQUARE FEET : The total area of all the floors of a building as measured from the exterior surfaces of the outside walls of the building, including the land area and space within any building or structure on the property. This variable should be numeric</li>\n",
    "    <li>YEAR BUILT : Year the structure on the property was built. This variable should be categorical</li>\n",
    "        <li>TAX CLASS AT TIME OF SALE and BUILDING CLASS AT TIME OF SALE. Both of these variables should be categorical.</li>\n",
    "    <li>SALE PRICE : This variable should be numeric.</li>\n",
    "    <li>SALE DATE : This variable should be data time. However, we can save the \"year\" or \"month\" part as a new categorical variable.</li>\n",
    "    <li>EASEMENT: An easement is a right, such as a right of way, which allows an entity to make limited use of another’s real property. For example: MTA railroad tracks that run across a portion of another property.</li>\n",
    "</ol>"
   ]
  },
  {
   "attachments": {},
   "cell_type": "markdown",
   "id": "f3997086",
   "metadata": {},
   "source": [
    "# Import and Install Required Libraries"
   ]
  },
  {
   "cell_type": "code",
   "execution_count": 1,
   "id": "408fc581",
   "metadata": {},
   "outputs": [
    {
     "name": "stdout",
     "output_type": "stream",
     "text": [
      "Requirement already satisfied: pandas in c:\\users\\bintang\\anaconda3\\lib\\site-packages (1.4.4)\n",
      "Requirement already satisfied: python-dateutil>=2.8.1 in c:\\users\\bintang\\anaconda3\\lib\\site-packages (from pandas) (2.8.2)\n",
      "Requirement already satisfied: numpy>=1.18.5 in c:\\users\\bintang\\anaconda3\\lib\\site-packages (from pandas) (1.21.5)\n",
      "Requirement already satisfied: pytz>=2020.1 in c:\\users\\bintang\\anaconda3\\lib\\site-packages (from pandas) (2022.1)\n",
      "Requirement already satisfied: six>=1.5 in c:\\users\\bintang\\anaconda3\\lib\\site-packages (from python-dateutil>=2.8.1->pandas) (1.16.0)\n",
      "Requirement already satisfied: numpy in c:\\users\\bintang\\anaconda3\\lib\\site-packages (1.21.5)\n",
      "Requirement already satisfied: matplotlib in c:\\users\\bintang\\anaconda3\\lib\\site-packages (3.5.2)\n",
      "Requirement already satisfied: fonttools>=4.22.0 in c:\\users\\bintang\\anaconda3\\lib\\site-packages (from matplotlib) (4.25.0)\n",
      "Requirement already satisfied: pyparsing>=2.2.1 in c:\\users\\bintang\\anaconda3\\lib\\site-packages (from matplotlib) (3.0.9)\n",
      "Requirement already satisfied: numpy>=1.17 in c:\\users\\bintang\\anaconda3\\lib\\site-packages (from matplotlib) (1.21.5)\n",
      "Requirement already satisfied: kiwisolver>=1.0.1 in c:\\users\\bintang\\anaconda3\\lib\\site-packages (from matplotlib) (1.4.2)\n",
      "Requirement already satisfied: python-dateutil>=2.7 in c:\\users\\bintang\\anaconda3\\lib\\site-packages (from matplotlib) (2.8.2)\n",
      "Requirement already satisfied: pillow>=6.2.0 in c:\\users\\bintang\\anaconda3\\lib\\site-packages (from matplotlib) (9.2.0)\n",
      "Requirement already satisfied: packaging>=20.0 in c:\\users\\bintang\\anaconda3\\lib\\site-packages (from matplotlib) (21.3)\n",
      "Requirement already satisfied: cycler>=0.10 in c:\\users\\bintang\\anaconda3\\lib\\site-packages (from matplotlib) (0.11.0)\n",
      "Requirement already satisfied: six>=1.5 in c:\\users\\bintang\\anaconda3\\lib\\site-packages (from python-dateutil>=2.7->matplotlib) (1.16.0)\n",
      "Requirement already satisfied: seaborn in c:\\users\\bintang\\anaconda3\\lib\\site-packages (0.11.2)\n",
      "Requirement already satisfied: pandas>=0.23 in c:\\users\\bintang\\anaconda3\\lib\\site-packages (from seaborn) (1.4.4)\n",
      "Requirement already satisfied: scipy>=1.0 in c:\\users\\bintang\\anaconda3\\lib\\site-packages (from seaborn) (1.9.1)\n",
      "Requirement already satisfied: matplotlib>=2.2 in c:\\users\\bintang\\anaconda3\\lib\\site-packages (from seaborn) (3.5.2)\n",
      "Requirement already satisfied: numpy>=1.15 in c:\\users\\bintang\\anaconda3\\lib\\site-packages (from seaborn) (1.21.5)\n",
      "Requirement already satisfied: fonttools>=4.22.0 in c:\\users\\bintang\\anaconda3\\lib\\site-packages (from matplotlib>=2.2->seaborn) (4.25.0)\n",
      "Requirement already satisfied: pillow>=6.2.0 in c:\\users\\bintang\\anaconda3\\lib\\site-packages (from matplotlib>=2.2->seaborn) (9.2.0)\n",
      "Requirement already satisfied: kiwisolver>=1.0.1 in c:\\users\\bintang\\anaconda3\\lib\\site-packages (from matplotlib>=2.2->seaborn) (1.4.2)\n",
      "Requirement already satisfied: pyparsing>=2.2.1 in c:\\users\\bintang\\anaconda3\\lib\\site-packages (from matplotlib>=2.2->seaborn) (3.0.9)\n",
      "Requirement already satisfied: python-dateutil>=2.7 in c:\\users\\bintang\\anaconda3\\lib\\site-packages (from matplotlib>=2.2->seaborn) (2.8.2)\n",
      "Requirement already satisfied: cycler>=0.10 in c:\\users\\bintang\\anaconda3\\lib\\site-packages (from matplotlib>=2.2->seaborn) (0.11.0)\n",
      "Requirement already satisfied: packaging>=20.0 in c:\\users\\bintang\\anaconda3\\lib\\site-packages (from matplotlib>=2.2->seaborn) (21.3)\n",
      "Requirement already satisfied: pytz>=2020.1 in c:\\users\\bintang\\anaconda3\\lib\\site-packages (from pandas>=0.23->seaborn) (2022.1)\n",
      "Requirement already satisfied: six>=1.5 in c:\\users\\bintang\\anaconda3\\lib\\site-packages (from python-dateutil>=2.7->matplotlib>=2.2->seaborn) (1.16.0)\n",
      "Requirement already satisfied: scipy in c:\\users\\bintang\\anaconda3\\lib\\site-packages (1.9.1)\n",
      "Requirement already satisfied: numpy<1.25.0,>=1.18.5 in c:\\users\\bintang\\anaconda3\\lib\\site-packages (from scipy) (1.21.5)\n",
      "Requirement already satisfied: statsmodels in c:\\users\\bintang\\anaconda3\\lib\\site-packages (0.13.2)\n",
      "Requirement already satisfied: numpy>=1.17 in c:\\users\\bintang\\anaconda3\\lib\\site-packages (from statsmodels) (1.21.5)\n",
      "Requirement already satisfied: scipy>=1.3 in c:\\users\\bintang\\anaconda3\\lib\\site-packages (from statsmodels) (1.9.1)\n",
      "Requirement already satisfied: pandas>=0.25 in c:\\users\\bintang\\anaconda3\\lib\\site-packages (from statsmodels) (1.4.4)\n",
      "Requirement already satisfied: patsy>=0.5.2 in c:\\users\\bintang\\anaconda3\\lib\\site-packages (from statsmodels) (0.5.2)\n",
      "Requirement already satisfied: packaging>=21.3 in c:\\users\\bintang\\anaconda3\\lib\\site-packages (from statsmodels) (21.3)\n",
      "Requirement already satisfied: pyparsing!=3.0.5,>=2.0.2 in c:\\users\\bintang\\anaconda3\\lib\\site-packages (from packaging>=21.3->statsmodels) (3.0.9)\n",
      "Requirement already satisfied: python-dateutil>=2.8.1 in c:\\users\\bintang\\anaconda3\\lib\\site-packages (from pandas>=0.25->statsmodels) (2.8.2)\n",
      "Requirement already satisfied: pytz>=2020.1 in c:\\users\\bintang\\anaconda3\\lib\\site-packages (from pandas>=0.25->statsmodels) (2022.1)\n",
      "Requirement already satisfied: six in c:\\users\\bintang\\anaconda3\\lib\\site-packages (from patsy>=0.5.2->statsmodels) (1.16.0)\n"
     ]
    }
   ],
   "source": [
    "!pip install pandas\n",
    "!pip install numpy\n",
    "!pip install matplotlib\n",
    "!pip install seaborn\n",
    "!pip install scipy\n",
    "!pip install statsmodels"
   ]
  },
  {
   "cell_type": "code",
   "execution_count": 2,
   "id": "6012cce6",
   "metadata": {},
   "outputs": [],
   "source": [
    "import pandas as pd\n",
    "import numpy as np\n",
    "import matplotlib as mpl\n",
    "import matplotlib.pyplot as plt\n",
    "import seaborn as sns\n",
    "import scipy.stats as scistats\n",
    "import statsmodels.api as sm\n",
    "%matplotlib inline"
   ]
  },
  {
   "cell_type": "code",
   "execution_count": 3,
   "id": "fbd88b2e",
   "metadata": {
    "scrolled": true
   },
   "outputs": [],
   "source": [
    "# mengantisipasi untuk unstandard missing values\n",
    "missing_values = ['n/a', 'na', \"--\", \"?\", \"NA\", 'n-a', 'NaN']\n",
    "df_nyc_sales = pd.read_csv('./dataset/Assignment_2/nyc-rolling-sales.csv', na_values=missing_values)"
   ]
  },
  {
   "attachments": {},
   "cell_type": "markdown",
   "id": "65af7b3e",
   "metadata": {},
   "source": [
    "# Membaca dataset"
   ]
  },
  {
   "cell_type": "code",
   "execution_count": 4,
   "id": "4b4c0a76",
   "metadata": {
    "scrolled": true
   },
   "outputs": [
    {
     "data": {
      "text/html": [
       "<div>\n",
       "<style scoped>\n",
       "    .dataframe tbody tr th:only-of-type {\n",
       "        vertical-align: middle;\n",
       "    }\n",
       "\n",
       "    .dataframe tbody tr th {\n",
       "        vertical-align: top;\n",
       "    }\n",
       "\n",
       "    .dataframe thead th {\n",
       "        text-align: right;\n",
       "    }\n",
       "</style>\n",
       "<table border=\"1\" class=\"dataframe\">\n",
       "  <thead>\n",
       "    <tr style=\"text-align: right;\">\n",
       "      <th></th>\n",
       "      <th>Unnamed: 0</th>\n",
       "      <th>BOROUGH</th>\n",
       "      <th>NEIGHBORHOOD</th>\n",
       "      <th>BUILDING CLASS CATEGORY</th>\n",
       "      <th>TAX CLASS AT PRESENT</th>\n",
       "      <th>BLOCK</th>\n",
       "      <th>LOT</th>\n",
       "      <th>EASE-MENT</th>\n",
       "      <th>BUILDING CLASS AT PRESENT</th>\n",
       "      <th>ADDRESS</th>\n",
       "      <th>...</th>\n",
       "      <th>RESIDENTIAL UNITS</th>\n",
       "      <th>COMMERCIAL UNITS</th>\n",
       "      <th>TOTAL UNITS</th>\n",
       "      <th>LAND SQUARE FEET</th>\n",
       "      <th>GROSS SQUARE FEET</th>\n",
       "      <th>YEAR BUILT</th>\n",
       "      <th>TAX CLASS AT TIME OF SALE</th>\n",
       "      <th>BUILDING CLASS AT TIME OF SALE</th>\n",
       "      <th>SALE PRICE</th>\n",
       "      <th>SALE DATE</th>\n",
       "    </tr>\n",
       "  </thead>\n",
       "  <tbody>\n",
       "    <tr>\n",
       "      <th>0</th>\n",
       "      <td>4</td>\n",
       "      <td>1</td>\n",
       "      <td>ALPHABET CITY</td>\n",
       "      <td>07 RENTALS - WALKUP APARTMENTS</td>\n",
       "      <td>2A</td>\n",
       "      <td>392</td>\n",
       "      <td>6</td>\n",
       "      <td></td>\n",
       "      <td>C2</td>\n",
       "      <td>153 AVENUE B</td>\n",
       "      <td>...</td>\n",
       "      <td>5</td>\n",
       "      <td>0</td>\n",
       "      <td>5</td>\n",
       "      <td>1633</td>\n",
       "      <td>6440</td>\n",
       "      <td>1900</td>\n",
       "      <td>2</td>\n",
       "      <td>C2</td>\n",
       "      <td>6625000</td>\n",
       "      <td>2017-07-19 00:00:00</td>\n",
       "    </tr>\n",
       "    <tr>\n",
       "      <th>1</th>\n",
       "      <td>5</td>\n",
       "      <td>1</td>\n",
       "      <td>ALPHABET CITY</td>\n",
       "      <td>07 RENTALS - WALKUP APARTMENTS</td>\n",
       "      <td>2</td>\n",
       "      <td>399</td>\n",
       "      <td>26</td>\n",
       "      <td></td>\n",
       "      <td>C7</td>\n",
       "      <td>234 EAST 4TH   STREET</td>\n",
       "      <td>...</td>\n",
       "      <td>28</td>\n",
       "      <td>3</td>\n",
       "      <td>31</td>\n",
       "      <td>4616</td>\n",
       "      <td>18690</td>\n",
       "      <td>1900</td>\n",
       "      <td>2</td>\n",
       "      <td>C7</td>\n",
       "      <td>-</td>\n",
       "      <td>2016-12-14 00:00:00</td>\n",
       "    </tr>\n",
       "    <tr>\n",
       "      <th>2</th>\n",
       "      <td>6</td>\n",
       "      <td>1</td>\n",
       "      <td>ALPHABET CITY</td>\n",
       "      <td>07 RENTALS - WALKUP APARTMENTS</td>\n",
       "      <td>2</td>\n",
       "      <td>399</td>\n",
       "      <td>39</td>\n",
       "      <td></td>\n",
       "      <td>C7</td>\n",
       "      <td>197 EAST 3RD   STREET</td>\n",
       "      <td>...</td>\n",
       "      <td>16</td>\n",
       "      <td>1</td>\n",
       "      <td>17</td>\n",
       "      <td>2212</td>\n",
       "      <td>7803</td>\n",
       "      <td>1900</td>\n",
       "      <td>2</td>\n",
       "      <td>C7</td>\n",
       "      <td>-</td>\n",
       "      <td>2016-12-09 00:00:00</td>\n",
       "    </tr>\n",
       "    <tr>\n",
       "      <th>3</th>\n",
       "      <td>7</td>\n",
       "      <td>1</td>\n",
       "      <td>ALPHABET CITY</td>\n",
       "      <td>07 RENTALS - WALKUP APARTMENTS</td>\n",
       "      <td>2B</td>\n",
       "      <td>402</td>\n",
       "      <td>21</td>\n",
       "      <td></td>\n",
       "      <td>C4</td>\n",
       "      <td>154 EAST 7TH STREET</td>\n",
       "      <td>...</td>\n",
       "      <td>10</td>\n",
       "      <td>0</td>\n",
       "      <td>10</td>\n",
       "      <td>2272</td>\n",
       "      <td>6794</td>\n",
       "      <td>1913</td>\n",
       "      <td>2</td>\n",
       "      <td>C4</td>\n",
       "      <td>3936272</td>\n",
       "      <td>2016-09-23 00:00:00</td>\n",
       "    </tr>\n",
       "    <tr>\n",
       "      <th>4</th>\n",
       "      <td>8</td>\n",
       "      <td>1</td>\n",
       "      <td>ALPHABET CITY</td>\n",
       "      <td>07 RENTALS - WALKUP APARTMENTS</td>\n",
       "      <td>2A</td>\n",
       "      <td>404</td>\n",
       "      <td>55</td>\n",
       "      <td></td>\n",
       "      <td>C2</td>\n",
       "      <td>301 EAST 10TH   STREET</td>\n",
       "      <td>...</td>\n",
       "      <td>6</td>\n",
       "      <td>0</td>\n",
       "      <td>6</td>\n",
       "      <td>2369</td>\n",
       "      <td>4615</td>\n",
       "      <td>1900</td>\n",
       "      <td>2</td>\n",
       "      <td>C2</td>\n",
       "      <td>8000000</td>\n",
       "      <td>2016-11-17 00:00:00</td>\n",
       "    </tr>\n",
       "  </tbody>\n",
       "</table>\n",
       "<p>5 rows × 22 columns</p>\n",
       "</div>"
      ],
      "text/plain": [
       "   Unnamed: 0  BOROUGH   NEIGHBORHOOD  \\\n",
       "0           4        1  ALPHABET CITY   \n",
       "1           5        1  ALPHABET CITY   \n",
       "2           6        1  ALPHABET CITY   \n",
       "3           7        1  ALPHABET CITY   \n",
       "4           8        1  ALPHABET CITY   \n",
       "\n",
       "                       BUILDING CLASS CATEGORY TAX CLASS AT PRESENT  BLOCK  \\\n",
       "0  07 RENTALS - WALKUP APARTMENTS                                2A    392   \n",
       "1  07 RENTALS - WALKUP APARTMENTS                                 2    399   \n",
       "2  07 RENTALS - WALKUP APARTMENTS                                 2    399   \n",
       "3  07 RENTALS - WALKUP APARTMENTS                                2B    402   \n",
       "4  07 RENTALS - WALKUP APARTMENTS                                2A    404   \n",
       "\n",
       "   LOT EASE-MENT BUILDING CLASS AT PRESENT                 ADDRESS  ...  \\\n",
       "0    6                                  C2            153 AVENUE B  ...   \n",
       "1   26                                  C7   234 EAST 4TH   STREET  ...   \n",
       "2   39                                  C7   197 EAST 3RD   STREET  ...   \n",
       "3   21                                  C4     154 EAST 7TH STREET  ...   \n",
       "4   55                                  C2  301 EAST 10TH   STREET  ...   \n",
       "\n",
       "  RESIDENTIAL UNITS  COMMERCIAL UNITS  TOTAL UNITS  LAND SQUARE FEET  \\\n",
       "0                 5                 0            5              1633   \n",
       "1                28                 3           31              4616   \n",
       "2                16                 1           17              2212   \n",
       "3                10                 0           10              2272   \n",
       "4                 6                 0            6              2369   \n",
       "\n",
       "   GROSS SQUARE FEET YEAR BUILT TAX CLASS AT TIME OF SALE  \\\n",
       "0               6440       1900                         2   \n",
       "1              18690       1900                         2   \n",
       "2               7803       1900                         2   \n",
       "3               6794       1913                         2   \n",
       "4               4615       1900                         2   \n",
       "\n",
       "   BUILDING CLASS AT TIME OF SALE  SALE PRICE            SALE DATE  \n",
       "0                              C2     6625000  2017-07-19 00:00:00  \n",
       "1                              C7         -    2016-12-14 00:00:00  \n",
       "2                              C7         -    2016-12-09 00:00:00  \n",
       "3                              C4     3936272  2016-09-23 00:00:00  \n",
       "4                              C2     8000000  2016-11-17 00:00:00  \n",
       "\n",
       "[5 rows x 22 columns]"
      ]
     },
     "execution_count": 4,
     "metadata": {},
     "output_type": "execute_result"
    }
   ],
   "source": [
    "df_nyc_sales.head()"
   ]
  },
  {
   "attachments": {},
   "cell_type": "markdown",
   "id": "3b5146ad",
   "metadata": {},
   "source": [
    "# Preprocessing"
   ]
  },
  {
   "attachments": {},
   "cell_type": "markdown",
   "id": "e4a71bdb",
   "metadata": {},
   "source": [
    "## Pengecekkan dimensi dari dataset"
   ]
  },
  {
   "cell_type": "code",
   "execution_count": 6,
   "id": "e872b40b",
   "metadata": {},
   "outputs": [
    {
     "data": {
      "text/plain": [
       "(84548, 22)"
      ]
     },
     "execution_count": 6,
     "metadata": {},
     "output_type": "execute_result"
    }
   ],
   "source": [
    "df_nyc_sales.shape"
   ]
  },
  {
   "attachments": {},
   "cell_type": "markdown",
   "id": "abd5309a",
   "metadata": {},
   "source": [
    "## Pengecekkan nama kolom dataset"
   ]
  },
  {
   "cell_type": "code",
   "execution_count": 7,
   "id": "0a83955d",
   "metadata": {
    "scrolled": true
   },
   "outputs": [
    {
     "data": {
      "text/plain": [
       "Index(['Unnamed: 0', 'BOROUGH', 'NEIGHBORHOOD', 'BUILDING CLASS CATEGORY',\n",
       "       'TAX CLASS AT PRESENT', 'BLOCK', 'LOT', 'EASE-MENT',\n",
       "       'BUILDING CLASS AT PRESENT', 'ADDRESS', 'APARTMENT NUMBER', 'ZIP CODE',\n",
       "       'RESIDENTIAL UNITS', 'COMMERCIAL UNITS', 'TOTAL UNITS',\n",
       "       'LAND SQUARE FEET', 'GROSS SQUARE FEET', 'YEAR BUILT',\n",
       "       'TAX CLASS AT TIME OF SALE', 'BUILDING CLASS AT TIME OF SALE',\n",
       "       'SALE PRICE', 'SALE DATE'],\n",
       "      dtype='object')"
      ]
     },
     "execution_count": 7,
     "metadata": {},
     "output_type": "execute_result"
    }
   ],
   "source": [
    "df_nyc_sales.columns"
   ]
  },
  {
   "cell_type": "code",
   "execution_count": 8,
   "id": "85070a52",
   "metadata": {},
   "outputs": [
    {
     "name": "stdout",
     "output_type": "stream",
     "text": [
      "<class 'pandas.core.frame.DataFrame'>\n",
      "RangeIndex: 84548 entries, 0 to 84547\n",
      "Data columns (total 22 columns):\n",
      " #   Column                          Non-Null Count  Dtype  \n",
      "---  ------                          --------------  -----  \n",
      " 0   Unnamed: 0                      84548 non-null  int64  \n",
      " 1   BOROUGH                         84548 non-null  int64  \n",
      " 2   NEIGHBORHOOD                    84548 non-null  object \n",
      " 3   BUILDING CLASS CATEGORY         84548 non-null  object \n",
      " 4   TAX CLASS AT PRESENT            83810 non-null  object \n",
      " 5   BLOCK                           84548 non-null  int64  \n",
      " 6   LOT                             84548 non-null  int64  \n",
      " 7   EASE-MENT                       0 non-null      float64\n",
      " 8   BUILDING CLASS AT PRESENT       83810 non-null  object \n",
      " 9   ADDRESS                         84548 non-null  object \n",
      " 10  APARTMENT NUMBER                19052 non-null  object \n",
      " 11  ZIP CODE                        84548 non-null  int64  \n",
      " 12  RESIDENTIAL UNITS               84548 non-null  int64  \n",
      " 13  COMMERCIAL UNITS                84548 non-null  int64  \n",
      " 14  TOTAL UNITS                     84548 non-null  int64  \n",
      " 15  LAND SQUARE FEET                58296 non-null  float64\n",
      " 16  GROSS SQUARE FEET               56936 non-null  float64\n",
      " 17  YEAR BUILT                      84548 non-null  int64  \n",
      " 18  TAX CLASS AT TIME OF SALE       84548 non-null  int64  \n",
      " 19  BUILDING CLASS AT TIME OF SALE  84548 non-null  object \n",
      " 20  SALE PRICE                      69987 non-null  float64\n",
      " 21  SALE DATE                       84548 non-null  object \n",
      "dtypes: float64(4), int64(10), object(8)\n",
      "memory usage: 14.2+ MB\n"
     ]
    }
   ],
   "source": [
    "df_nyc_sales.info()"
   ]
  },
  {
   "attachments": {},
   "cell_type": "markdown",
   "id": "efb7b288",
   "metadata": {},
   "source": [
    "<b>ANALISIS</b>\n",
    "Pada beberapa kolom masih terdapat unstandard missing values yang tidak berhasil diidentifikasi oleh Pandas sebagai missing values. Berikut ini adalah rangkumannya:\n",
    "</br>\n",
    "<ol>\n",
    "    <li>Kolom \"Unnamed: 0\" sebagai iterator dan tidak diperlukan untuk analisis berikutnya, sehingga akan didrop</li>\n",
    "    <li>Kolom 'TAX CLASS AT PRESENT' mengandung nilai (' ') yang diidentifikasi sebagai missing values</li>\n",
    "    <li>Kolom 'EASE-MENT' tidak mengandung informasi dan hanya memuat satu nilai (' ') yang diidentifikasi sebagai missing values, sehingga untuk selanjutnya akan dibuang</li>\n",
    "    <li>Kolom 'BUILDING CLASS AT PRESENT', 'APARTMENT NUMBER' mengandung nilai (' ') yang diidentifikasi sebagai missing values.</li>\n",
    "    <li>Kolom 'ZIP CODE', 'YEAR BUILT', 'TOTAL UNITS' mengandung nilai (0) yang diidentifikasi sebagai missing values</li>\n",
    "    <li>Kolom 'SALE PRICE' mengandung nilai (' - ') yang diidentifikasi sebagai missing values, selanjutnya nilai ini akan diganti dengan 0 dan dianggap tidak ada transaksi</li>\n",
    "</ol>"
   ]
  },
  {
   "attachments": {},
   "cell_type": "markdown",
   "id": "2e8f0d72",
   "metadata": {},
   "source": [
    "# Data Cleaning"
   ]
  },
  {
   "attachments": {},
   "cell_type": "markdown",
   "id": "4137b8cd",
   "metadata": {},
   "source": [
    "## Menambahkan unstandard missing values"
   ]
  },
  {
   "cell_type": "code",
   "execution_count": 15,
   "id": "313f9fec",
   "metadata": {},
   "outputs": [],
   "source": [
    "missing_values = ['n/a', 'na', \"--\", \"?\", \"NA\", 'n-a', 'NaN',' ',' -  ']\n",
    "df_nyc_sales = pd.read_csv('/Users/Bintang/nyc-rolling-sales.csv', na_values=missing_values)"
   ]
  },
  {
   "cell_type": "code",
   "execution_count": 16,
   "id": "b8ded278",
   "metadata": {},
   "outputs": [
    {
     "name": "stdout",
     "output_type": "stream",
     "text": [
      "<class 'pandas.core.frame.DataFrame'>\n",
      "RangeIndex: 84548 entries, 0 to 84547\n",
      "Data columns (total 22 columns):\n",
      " #   Column                          Non-Null Count  Dtype  \n",
      "---  ------                          --------------  -----  \n",
      " 0   Unnamed: 0                      84548 non-null  int64  \n",
      " 1   BOROUGH                         84548 non-null  int64  \n",
      " 2   NEIGHBORHOOD                    84548 non-null  object \n",
      " 3   BUILDING CLASS CATEGORY         84548 non-null  object \n",
      " 4   TAX CLASS AT PRESENT            83810 non-null  object \n",
      " 5   BLOCK                           84548 non-null  int64  \n",
      " 6   LOT                             84548 non-null  int64  \n",
      " 7   EASE-MENT                       0 non-null      float64\n",
      " 8   BUILDING CLASS AT PRESENT       83810 non-null  object \n",
      " 9   ADDRESS                         84548 non-null  object \n",
      " 10  APARTMENT NUMBER                19052 non-null  object \n",
      " 11  ZIP CODE                        84548 non-null  int64  \n",
      " 12  RESIDENTIAL UNITS               84548 non-null  int64  \n",
      " 13  COMMERCIAL UNITS                84548 non-null  int64  \n",
      " 14  TOTAL UNITS                     84548 non-null  int64  \n",
      " 15  LAND SQUARE FEET                58296 non-null  float64\n",
      " 16  GROSS SQUARE FEET               56936 non-null  float64\n",
      " 17  YEAR BUILT                      84548 non-null  int64  \n",
      " 18  TAX CLASS AT TIME OF SALE       84548 non-null  int64  \n",
      " 19  BUILDING CLASS AT TIME OF SALE  84548 non-null  object \n",
      " 20  SALE PRICE                      69987 non-null  float64\n",
      " 21  SALE DATE                       84548 non-null  object \n",
      "dtypes: float64(4), int64(10), object(8)\n",
      "memory usage: 14.2+ MB\n"
     ]
    }
   ],
   "source": [
    "df_nyc_sales.info()"
   ]
  },
  {
   "cell_type": "code",
   "execution_count": 17,
   "id": "1c9b8b88",
   "metadata": {},
   "outputs": [],
   "source": [
    "df_nyc_sales['YEAR BUILT']=df_nyc_sales['YEAR BUILT'].replace({0:np.nan})\n",
    "df_nyc_sales['ZIP CODE']=df_nyc_sales['ZIP CODE'].replace({0:np.nan})\n",
    "df_nyc_sales['TOTAL UNITS']=df_nyc_sales['TOTAL UNITS'].replace({0:np.nan})"
   ]
  },
  {
   "cell_type": "code",
   "execution_count": 18,
   "id": "8f2a0541",
   "metadata": {},
   "outputs": [],
   "source": [
    "unnecessary_columns = ['Unnamed: 0', 'EASE-MENT','ADDRESS','APARTMENT NUMBER']\n",
    "df_nyc_sales.drop(unnecessary_columns,inplace=True, axis=1)"
   ]
  },
  {
   "cell_type": "code",
   "execution_count": 19,
   "id": "e109d393",
   "metadata": {},
   "outputs": [
    {
     "name": "stdout",
     "output_type": "stream",
     "text": [
      "<class 'pandas.core.frame.DataFrame'>\n",
      "RangeIndex: 84548 entries, 0 to 84547\n",
      "Data columns (total 18 columns):\n",
      " #   Column                          Non-Null Count  Dtype  \n",
      "---  ------                          --------------  -----  \n",
      " 0   BOROUGH                         84548 non-null  int64  \n",
      " 1   NEIGHBORHOOD                    84548 non-null  object \n",
      " 2   BUILDING CLASS CATEGORY         84548 non-null  object \n",
      " 3   TAX CLASS AT PRESENT            83810 non-null  object \n",
      " 4   BLOCK                           84548 non-null  int64  \n",
      " 5   LOT                             84548 non-null  int64  \n",
      " 6   BUILDING CLASS AT PRESENT       83810 non-null  object \n",
      " 7   ZIP CODE                        83566 non-null  float64\n",
      " 8   RESIDENTIAL UNITS               84548 non-null  int64  \n",
      " 9   COMMERCIAL UNITS                84548 non-null  int64  \n",
      " 10  TOTAL UNITS                     64786 non-null  float64\n",
      " 11  LAND SQUARE FEET                58296 non-null  float64\n",
      " 12  GROSS SQUARE FEET               56936 non-null  float64\n",
      " 13  YEAR BUILT                      77578 non-null  float64\n",
      " 14  TAX CLASS AT TIME OF SALE       84548 non-null  int64  \n",
      " 15  BUILDING CLASS AT TIME OF SALE  84548 non-null  object \n",
      " 16  SALE PRICE                      69987 non-null  float64\n",
      " 17  SALE DATE                       84548 non-null  object \n",
      "dtypes: float64(6), int64(6), object(6)\n",
      "memory usage: 11.6+ MB\n"
     ]
    }
   ],
   "source": [
    "df_nyc_sales.info()"
   ]
  },
  {
   "cell_type": "code",
   "execution_count": 20,
   "id": "ef4f3f0c",
   "metadata": {},
   "outputs": [],
   "source": [
    "df_nyc_sales['SALE PRICE']= pd.to_numeric(df_nyc_sales['SALE PRICE'], errors='coerce')\n",
    "df_nyc_sales['LAND SQUARE FEET'] = pd.to_numeric(df_nyc_sales['LAND SQUARE FEET'], errors='coerce')\n",
    "df_nyc_sales['GROSS SQUARE FEET'] = pd.to_numeric(df_nyc_sales['GROSS SQUARE FEET'], errors='coerce')\n",
    "df_nyc_sales['SALE DATE']=pd.to_datetime(df_nyc_sales['SALE DATE'], errors='coerce')\n",
    "categorical = ['NEIGHBORHOOD', 'BUILDING CLASS CATEGORY', 'TAX CLASS AT PRESENT', 'BUILDING CLASS AT PRESENT',\n",
    "         'BUILDING CLASS AT TIME OF SALE', 'TAX CLASS AT TIME OF SALE']\n",
    "for col in categorical:\n",
    "    df_nyc_sales[col] = df_nyc_sales[col].astype('category')"
   ]
  },
  {
   "cell_type": "code",
   "execution_count": 37,
   "id": "a4703d00",
   "metadata": {},
   "outputs": [
    {
     "name": "stdout",
     "output_type": "stream",
     "text": [
      "<class 'pandas.core.frame.DataFrame'>\n",
      "RangeIndex: 84548 entries, 0 to 84547\n",
      "Data columns (total 17 columns):\n",
      " #   Column                          Non-Null Count  Dtype         \n",
      "---  ------                          --------------  -----         \n",
      " 0   BOROUGH                         84548 non-null  int64         \n",
      " 1   NEIGHBORHOOD                    84548 non-null  category      \n",
      " 2   BUILDING CLASS CATEGORY         84548 non-null  category      \n",
      " 3   TAX CLASS AT PRESENT            83810 non-null  category      \n",
      " 4   BLOCK                           84548 non-null  int64         \n",
      " 5   LOT                             84548 non-null  int64         \n",
      " 6   BUILDING CLASS AT PRESENT       83810 non-null  category      \n",
      " 7   RESIDENTIAL UNITS               84548 non-null  int64         \n",
      " 8   COMMERCIAL UNITS                84548 non-null  int64         \n",
      " 9   TOTAL UNITS                     84548 non-null  int64         \n",
      " 10  LAND SQUARE FEET                58296 non-null  float64       \n",
      " 11  GROSS SQUARE FEET               56936 non-null  float64       \n",
      " 12  YEAR BUILT                      84548 non-null  int64         \n",
      " 13  TAX CLASS AT TIME OF SALE       84548 non-null  category      \n",
      " 14  BUILDING CLASS AT TIME OF SALE  84548 non-null  category      \n",
      " 15  SALE PRICE                      69987 non-null  float64       \n",
      " 16  SALE DATE                       84548 non-null  datetime64[ns]\n",
      "dtypes: category(6), datetime64[ns](1), float64(3), int64(7)\n",
      "memory usage: 7.8 MB\n"
     ]
    }
   ],
   "source": [
    "df_nyc_sales.info()"
   ]
  },
  {
   "attachments": {},
   "cell_type": "markdown",
   "id": "d638e326",
   "metadata": {},
   "source": [
    "Mengecek dan menghapus baris duplikat"
   ]
  },
  {
   "cell_type": "code",
   "execution_count": 15,
   "id": "d994f093",
   "metadata": {},
   "outputs": [
    {
     "data": {
      "text/plain": [
       "959"
      ]
     },
     "execution_count": 15,
     "metadata": {},
     "output_type": "execute_result"
    }
   ],
   "source": [
    "sum(df_nyc_sales.duplicated())"
   ]
  },
  {
   "cell_type": "code",
   "execution_count": 16,
   "id": "cf39a61e",
   "metadata": {},
   "outputs": [],
   "source": [
    "df_nyc_sales=df_nyc_sales.drop_duplicates(df_nyc_sales.columns, keep='last')"
   ]
  },
  {
   "cell_type": "code",
   "execution_count": 17,
   "id": "a2853018",
   "metadata": {
    "scrolled": true
   },
   "outputs": [
    {
     "data": {
      "text/plain": [
       "0"
      ]
     },
     "execution_count": 17,
     "metadata": {},
     "output_type": "execute_result"
    }
   ],
   "source": [
    "sum(df_nyc_sales.duplicated())"
   ]
  },
  {
   "attachments": {},
   "cell_type": "markdown",
   "id": "8776a326",
   "metadata": {},
   "source": [
    "### Handling Missing Values"
   ]
  },
  {
   "attachments": {},
   "cell_type": "markdown",
   "id": "baac09b2",
   "metadata": {},
   "source": [
    "Mengecek jumlah missing values pada setiap kolom"
   ]
  },
  {
   "cell_type": "code",
   "execution_count": 18,
   "id": "35020b14",
   "metadata": {},
   "outputs": [
    {
     "data": {
      "text/plain": [
       "BOROUGH                               0\n",
       "NEIGHBORHOOD                          0\n",
       "BUILDING CLASS CATEGORY               0\n",
       "TAX CLASS AT PRESENT                738\n",
       "BLOCK                                 0\n",
       "LOT                                   0\n",
       "BUILDING CLASS AT PRESENT           738\n",
       "RESIDENTIAL UNITS                     0\n",
       "COMMERCIAL UNITS                      0\n",
       "TOTAL UNITS                           0\n",
       "LAND SQUARE FEET                  25954\n",
       "GROSS SQUARE FEET                 27282\n",
       "YEAR BUILT                            0\n",
       "TAX CLASS AT TIME OF SALE             0\n",
       "BUILDING CLASS AT TIME OF SALE        0\n",
       "SALE PRICE                        14074\n",
       "SALE DATE                             0\n",
       "dtype: int64"
      ]
     },
     "execution_count": 18,
     "metadata": {},
     "output_type": "execute_result"
    }
   ],
   "source": [
    "df_nyc_sales.isnull().sum()"
   ]
  },
  {
   "cell_type": "code",
   "execution_count": 21,
   "id": "ad47717b",
   "metadata": {
    "scrolled": true
   },
   "outputs": [],
   "source": [
    "categoricals_columns = ['TAX CLASS AT PRESENT', 'BUILDING CLASS AT PRESENT', 'ZIP CODE', 'YEAR BUILT']\n",
    "for cat_col in categoricals_columns:\n",
    "    df_nyc_sales[cat_col].fillna(df_nyc_sales[cat_col].mode()[0],inplace=True)"
   ]
  },
  {
   "cell_type": "code",
   "execution_count": 22,
   "id": "040541a4",
   "metadata": {},
   "outputs": [],
   "source": [
    "float_columns = ['LAND SQUARE FEET', 'GROSS SQUARE FEET']\n",
    "for float_col in float_columns:\n",
    "    df_nyc_sales[float_col].fillna(df_nyc_sales[float_col].median(),inplace=True)"
   ]
  },
  {
   "cell_type": "code",
   "execution_count": 23,
   "id": "66cbe786",
   "metadata": {},
   "outputs": [],
   "source": [
    "df_nyc_sales.dropna(inplace=True)"
   ]
  },
  {
   "cell_type": "code",
   "execution_count": 25,
   "id": "5b78ac02",
   "metadata": {
    "scrolled": true
   },
   "outputs": [
    {
     "data": {
      "text/html": [
       "<div>\n",
       "<style scoped>\n",
       "    .dataframe tbody tr th:only-of-type {\n",
       "        vertical-align: middle;\n",
       "    }\n",
       "\n",
       "    .dataframe tbody tr th {\n",
       "        vertical-align: top;\n",
       "    }\n",
       "\n",
       "    .dataframe thead th {\n",
       "        text-align: right;\n",
       "    }\n",
       "</style>\n",
       "<table border=\"1\" class=\"dataframe\">\n",
       "  <thead>\n",
       "    <tr style=\"text-align: right;\">\n",
       "      <th></th>\n",
       "      <th>BOROUGH</th>\n",
       "      <th>NEIGHBORHOOD</th>\n",
       "      <th>BUILDING CLASS CATEGORY</th>\n",
       "      <th>TAX CLASS AT PRESENT</th>\n",
       "      <th>BLOCK</th>\n",
       "      <th>LOT</th>\n",
       "      <th>BUILDING CLASS AT PRESENT</th>\n",
       "      <th>ZIP CODE</th>\n",
       "      <th>RESIDENTIAL UNITS</th>\n",
       "      <th>COMMERCIAL UNITS</th>\n",
       "      <th>TOTAL UNITS</th>\n",
       "      <th>LAND SQUARE FEET</th>\n",
       "      <th>GROSS SQUARE FEET</th>\n",
       "      <th>YEAR BUILT</th>\n",
       "      <th>TAX CLASS AT TIME OF SALE</th>\n",
       "      <th>BUILDING CLASS AT TIME OF SALE</th>\n",
       "      <th>SALE PRICE</th>\n",
       "      <th>SALE DATE</th>\n",
       "    </tr>\n",
       "  </thead>\n",
       "  <tbody>\n",
       "    <tr>\n",
       "      <th>208</th>\n",
       "      <td>1</td>\n",
       "      <td>CHELSEA</td>\n",
       "      <td>01 ONE FAMILY DWELLINGS</td>\n",
       "      <td>1</td>\n",
       "      <td>772</td>\n",
       "      <td>29</td>\n",
       "      <td>A4</td>\n",
       "      <td>10011.0</td>\n",
       "      <td>1</td>\n",
       "      <td>0</td>\n",
       "      <td>1.0</td>\n",
       "      <td>1588.0</td>\n",
       "      <td>5653.0</td>\n",
       "      <td>1900.0</td>\n",
       "      <td>1</td>\n",
       "      <td>A4</td>\n",
       "      <td>10.0</td>\n",
       "      <td>2017-01-30</td>\n",
       "    </tr>\n",
       "    <tr>\n",
       "      <th>209</th>\n",
       "      <td>1</td>\n",
       "      <td>CHELSEA</td>\n",
       "      <td>01 ONE FAMILY DWELLINGS</td>\n",
       "      <td>1</td>\n",
       "      <td>772</td>\n",
       "      <td>29</td>\n",
       "      <td>A4</td>\n",
       "      <td>10011.0</td>\n",
       "      <td>1</td>\n",
       "      <td>0</td>\n",
       "      <td>1.0</td>\n",
       "      <td>1588.0</td>\n",
       "      <td>5653.0</td>\n",
       "      <td>1900.0</td>\n",
       "      <td>1</td>\n",
       "      <td>A4</td>\n",
       "      <td>10.0</td>\n",
       "      <td>2017-01-30</td>\n",
       "    </tr>\n",
       "    <tr>\n",
       "      <th>683</th>\n",
       "      <td>1</td>\n",
       "      <td>CHELSEA</td>\n",
       "      <td>13 CONDOS - ELEVATOR APARTMENTS</td>\n",
       "      <td>2</td>\n",
       "      <td>774</td>\n",
       "      <td>1042</td>\n",
       "      <td>R4</td>\n",
       "      <td>10001.0</td>\n",
       "      <td>1</td>\n",
       "      <td>0</td>\n",
       "      <td>1.0</td>\n",
       "      <td>2325.0</td>\n",
       "      <td>1680.0</td>\n",
       "      <td>1920.0</td>\n",
       "      <td>2</td>\n",
       "      <td>R4</td>\n",
       "      <td>1500000.0</td>\n",
       "      <td>2016-10-05</td>\n",
       "    </tr>\n",
       "    <tr>\n",
       "      <th>2296</th>\n",
       "      <td>1</td>\n",
       "      <td>FINANCIAL</td>\n",
       "      <td>13 CONDOS - ELEVATOR APARTMENTS</td>\n",
       "      <td>2</td>\n",
       "      <td>24</td>\n",
       "      <td>1123</td>\n",
       "      <td>R4</td>\n",
       "      <td>10004.0</td>\n",
       "      <td>1</td>\n",
       "      <td>0</td>\n",
       "      <td>1.0</td>\n",
       "      <td>2325.0</td>\n",
       "      <td>1680.0</td>\n",
       "      <td>1982.0</td>\n",
       "      <td>2</td>\n",
       "      <td>R4</td>\n",
       "      <td>1200000.0</td>\n",
       "      <td>2017-04-28</td>\n",
       "    </tr>\n",
       "    <tr>\n",
       "      <th>3427</th>\n",
       "      <td>1</td>\n",
       "      <td>GRAMERCY</td>\n",
       "      <td>13 CONDOS - ELEVATOR APARTMENTS</td>\n",
       "      <td>2</td>\n",
       "      <td>879</td>\n",
       "      <td>1207</td>\n",
       "      <td>R4</td>\n",
       "      <td>10010.0</td>\n",
       "      <td>1</td>\n",
       "      <td>0</td>\n",
       "      <td>1.0</td>\n",
       "      <td>2325.0</td>\n",
       "      <td>1680.0</td>\n",
       "      <td>2009.0</td>\n",
       "      <td>2</td>\n",
       "      <td>R4</td>\n",
       "      <td>716000.0</td>\n",
       "      <td>2017-04-07</td>\n",
       "    </tr>\n",
       "    <tr>\n",
       "      <th>...</th>\n",
       "      <td>...</td>\n",
       "      <td>...</td>\n",
       "      <td>...</td>\n",
       "      <td>...</td>\n",
       "      <td>...</td>\n",
       "      <td>...</td>\n",
       "      <td>...</td>\n",
       "      <td>...</td>\n",
       "      <td>...</td>\n",
       "      <td>...</td>\n",
       "      <td>...</td>\n",
       "      <td>...</td>\n",
       "      <td>...</td>\n",
       "      <td>...</td>\n",
       "      <td>...</td>\n",
       "      <td>...</td>\n",
       "      <td>...</td>\n",
       "      <td>...</td>\n",
       "    </tr>\n",
       "    <tr>\n",
       "      <th>83176</th>\n",
       "      <td>5</td>\n",
       "      <td>TODT HILL</td>\n",
       "      <td>01 ONE FAMILY DWELLINGS</td>\n",
       "      <td>1</td>\n",
       "      <td>908</td>\n",
       "      <td>150</td>\n",
       "      <td>A1</td>\n",
       "      <td>10304.0</td>\n",
       "      <td>1</td>\n",
       "      <td>0</td>\n",
       "      <td>1.0</td>\n",
       "      <td>38862.0</td>\n",
       "      <td>3900.0</td>\n",
       "      <td>1920.0</td>\n",
       "      <td>1</td>\n",
       "      <td>A1</td>\n",
       "      <td>1125000.0</td>\n",
       "      <td>2017-08-02</td>\n",
       "    </tr>\n",
       "    <tr>\n",
       "      <th>83207</th>\n",
       "      <td>5</td>\n",
       "      <td>TOMPKINSVILLE</td>\n",
       "      <td>02 TWO FAMILY DWELLINGS</td>\n",
       "      <td>1</td>\n",
       "      <td>114</td>\n",
       "      <td>30</td>\n",
       "      <td>B2</td>\n",
       "      <td>10301.0</td>\n",
       "      <td>2</td>\n",
       "      <td>0</td>\n",
       "      <td>2.0</td>\n",
       "      <td>5781.0</td>\n",
       "      <td>844.0</td>\n",
       "      <td>1942.0</td>\n",
       "      <td>1</td>\n",
       "      <td>B2</td>\n",
       "      <td>250000.0</td>\n",
       "      <td>2017-06-22</td>\n",
       "    </tr>\n",
       "    <tr>\n",
       "      <th>83603</th>\n",
       "      <td>5</td>\n",
       "      <td>WEST NEW BRIGHTON</td>\n",
       "      <td>01 ONE FAMILY DWELLINGS</td>\n",
       "      <td>1</td>\n",
       "      <td>91</td>\n",
       "      <td>31</td>\n",
       "      <td>A1</td>\n",
       "      <td>10301.0</td>\n",
       "      <td>1</td>\n",
       "      <td>0</td>\n",
       "      <td>1.0</td>\n",
       "      <td>4840.0</td>\n",
       "      <td>2400.0</td>\n",
       "      <td>2005.0</td>\n",
       "      <td>1</td>\n",
       "      <td>A1</td>\n",
       "      <td>585000.0</td>\n",
       "      <td>2016-09-21</td>\n",
       "    </tr>\n",
       "    <tr>\n",
       "      <th>83647</th>\n",
       "      <td>5</td>\n",
       "      <td>WEST NEW BRIGHTON</td>\n",
       "      <td>01 ONE FAMILY DWELLINGS</td>\n",
       "      <td>1</td>\n",
       "      <td>155</td>\n",
       "      <td>180</td>\n",
       "      <td>A1</td>\n",
       "      <td>10310.0</td>\n",
       "      <td>1</td>\n",
       "      <td>0</td>\n",
       "      <td>1.0</td>\n",
       "      <td>10671.0</td>\n",
       "      <td>2464.0</td>\n",
       "      <td>1899.0</td>\n",
       "      <td>1</td>\n",
       "      <td>A1</td>\n",
       "      <td>725000.0</td>\n",
       "      <td>2017-06-30</td>\n",
       "    </tr>\n",
       "    <tr>\n",
       "      <th>84445</th>\n",
       "      <td>5</td>\n",
       "      <td>WOODROW</td>\n",
       "      <td>01 ONE FAMILY DWELLINGS</td>\n",
       "      <td>1</td>\n",
       "      <td>6969</td>\n",
       "      <td>20</td>\n",
       "      <td>A5</td>\n",
       "      <td>10309.0</td>\n",
       "      <td>1</td>\n",
       "      <td>0</td>\n",
       "      <td>1.0</td>\n",
       "      <td>2773.0</td>\n",
       "      <td>1650.0</td>\n",
       "      <td>1999.0</td>\n",
       "      <td>1</td>\n",
       "      <td>A5</td>\n",
       "      <td>560000.0</td>\n",
       "      <td>2016-09-07</td>\n",
       "    </tr>\n",
       "  </tbody>\n",
       "</table>\n",
       "<p>367 rows × 18 columns</p>\n",
       "</div>"
      ],
      "text/plain": [
       "       BOROUGH       NEIGHBORHOOD  \\\n",
       "208          1            CHELSEA   \n",
       "209          1            CHELSEA   \n",
       "683          1            CHELSEA   \n",
       "2296         1          FINANCIAL   \n",
       "3427         1           GRAMERCY   \n",
       "...        ...                ...   \n",
       "83176        5          TODT HILL   \n",
       "83207        5      TOMPKINSVILLE   \n",
       "83603        5  WEST NEW BRIGHTON   \n",
       "83647        5  WEST NEW BRIGHTON   \n",
       "84445        5            WOODROW   \n",
       "\n",
       "                           BUILDING CLASS CATEGORY TAX CLASS AT PRESENT  \\\n",
       "208    01 ONE FAMILY DWELLINGS                                        1   \n",
       "209    01 ONE FAMILY DWELLINGS                                        1   \n",
       "683    13 CONDOS - ELEVATOR APARTMENTS                                2   \n",
       "2296   13 CONDOS - ELEVATOR APARTMENTS                                2   \n",
       "3427   13 CONDOS - ELEVATOR APARTMENTS                                2   \n",
       "...                                            ...                  ...   \n",
       "83176  01 ONE FAMILY DWELLINGS                                        1   \n",
       "83207  02 TWO FAMILY DWELLINGS                                        1   \n",
       "83603  01 ONE FAMILY DWELLINGS                                        1   \n",
       "83647  01 ONE FAMILY DWELLINGS                                        1   \n",
       "84445  01 ONE FAMILY DWELLINGS                                        1   \n",
       "\n",
       "       BLOCK   LOT BUILDING CLASS AT PRESENT  ZIP CODE  RESIDENTIAL UNITS  \\\n",
       "208      772    29                        A4   10011.0                  1   \n",
       "209      772    29                        A4   10011.0                  1   \n",
       "683      774  1042                        R4   10001.0                  1   \n",
       "2296      24  1123                        R4   10004.0                  1   \n",
       "3427     879  1207                        R4   10010.0                  1   \n",
       "...      ...   ...                       ...       ...                ...   \n",
       "83176    908   150                        A1   10304.0                  1   \n",
       "83207    114    30                        B2   10301.0                  2   \n",
       "83603     91    31                        A1   10301.0                  1   \n",
       "83647    155   180                        A1   10310.0                  1   \n",
       "84445   6969    20                        A5   10309.0                  1   \n",
       "\n",
       "       COMMERCIAL UNITS  TOTAL UNITS  LAND SQUARE FEET  GROSS SQUARE FEET  \\\n",
       "208                   0          1.0            1588.0             5653.0   \n",
       "209                   0          1.0            1588.0             5653.0   \n",
       "683                   0          1.0            2325.0             1680.0   \n",
       "2296                  0          1.0            2325.0             1680.0   \n",
       "3427                  0          1.0            2325.0             1680.0   \n",
       "...                 ...          ...               ...                ...   \n",
       "83176                 0          1.0           38862.0             3900.0   \n",
       "83207                 0          2.0            5781.0              844.0   \n",
       "83603                 0          1.0            4840.0             2400.0   \n",
       "83647                 0          1.0           10671.0             2464.0   \n",
       "84445                 0          1.0            2773.0             1650.0   \n",
       "\n",
       "       YEAR BUILT TAX CLASS AT TIME OF SALE BUILDING CLASS AT TIME OF SALE  \\\n",
       "208        1900.0                         1                             A4   \n",
       "209        1900.0                         1                             A4   \n",
       "683        1920.0                         2                             R4   \n",
       "2296       1982.0                         2                             R4   \n",
       "3427       2009.0                         2                             R4   \n",
       "...           ...                       ...                            ...   \n",
       "83176      1920.0                         1                             A1   \n",
       "83207      1942.0                         1                             B2   \n",
       "83603      2005.0                         1                             A1   \n",
       "83647      1899.0                         1                             A1   \n",
       "84445      1999.0                         1                             A5   \n",
       "\n",
       "       SALE PRICE  SALE DATE  \n",
       "208          10.0 2017-01-30  \n",
       "209          10.0 2017-01-30  \n",
       "683     1500000.0 2016-10-05  \n",
       "2296    1200000.0 2017-04-28  \n",
       "3427     716000.0 2017-04-07  \n",
       "...           ...        ...  \n",
       "83176   1125000.0 2017-08-02  \n",
       "83207    250000.0 2017-06-22  \n",
       "83603    585000.0 2016-09-21  \n",
       "83647    725000.0 2017-06-30  \n",
       "84445    560000.0 2016-09-07  \n",
       "\n",
       "[367 rows x 18 columns]"
      ]
     },
     "execution_count": 25,
     "metadata": {},
     "output_type": "execute_result"
    }
   ],
   "source": [
    "df_nyc_sales[\n",
    "    df_nyc_sales.duplicated()\n",
    "]"
   ]
  },
  {
   "cell_type": "code",
   "execution_count": 26,
   "id": "2146d249",
   "metadata": {},
   "outputs": [
    {
     "name": "stdout",
     "output_type": "stream",
     "text": [
      "367\n"
     ]
    }
   ],
   "source": [
    "rows_duplicated = df_nyc_sales.duplicated()\n",
    "print(rows_duplicated.sum())"
   ]
  },
  {
   "attachments": {},
   "cell_type": "markdown",
   "id": "b9a13674",
   "metadata": {},
   "source": [
    "Ada sejumlah 367 data duplikat, data duplikat ini akan dihapus"
   ]
  },
  {
   "cell_type": "code",
   "execution_count": 27,
   "id": "8614657f",
   "metadata": {
    "scrolled": true
   },
   "outputs": [
    {
     "data": {
      "text/plain": [
       "(51996, 18)"
      ]
     },
     "execution_count": 27,
     "metadata": {},
     "output_type": "execute_result"
    }
   ],
   "source": [
    "df_nyc_sales.drop_duplicates(subset=df_nyc_sales.columns,keep='first', inplace=True)\n",
    "df_nyc_sales.shape"
   ]
  },
  {
   "attachments": {},
   "cell_type": "markdown",
   "id": "92dd6041",
   "metadata": {},
   "source": [
    "## Ubah tipe data setiap kolom sesuai dengan tipe"
   ]
  },
  {
   "cell_type": "code",
   "execution_count": 28,
   "id": "9424f0f9",
   "metadata": {},
   "outputs": [],
   "source": [
    "categoricals_columns = ['BOROUGH', 'NEIGHBORHOOD', 'BUILDING CLASS CATEGORY', 'TAX CLASS AT PRESENT', \n",
    "                'ZIP CODE', 'YEAR BUILT', 'TAX CLASS AT TIME OF SALE', 'BUILDING CLASS AT TIME OF SALE',\n",
    "                'BUILDING CLASS AT PRESENT']\n",
    "float_columns = ['SALE PRICE', 'LAND SQUARE FEET', 'GROSS SQUARE FEET']\n",
    "integer_columns = ['BLOCK', 'LOT']\n",
    "\n",
    "# ubah kolom yang seharusnya kategori menjadi tipe 'str'\n",
    "for col in categoricals_columns:\n",
    "    df_nyc_sales[col] = df_nyc_sales[col].astype('str')\n",
    "\n",
    "# ubah kolom yang seharusnya float menjadi tipe 'float'\n",
    "for col in float_columns:\n",
    "    df_nyc_sales[col] = df_nyc_sales[col].astype('float64')\n",
    "\n",
    "# ubah kolom yang seharusnya int menjadi tipe 'int'\n",
    "for col in integer_columns:\n",
    "    df_nyc_sales[col] = df_nyc_sales[col].astype('int64')"
   ]
  },
  {
   "cell_type": "code",
   "execution_count": 30,
   "id": "4c385cbd",
   "metadata": {},
   "outputs": [
    {
     "name": "stdout",
     "output_type": "stream",
     "text": [
      "<class 'pandas.core.frame.DataFrame'>\n",
      "Int64Index: 51996 entries, 0 to 84547\n",
      "Data columns (total 18 columns):\n",
      " #   Column                          Non-Null Count  Dtype         \n",
      "---  ------                          --------------  -----         \n",
      " 0   BOROUGH                         51996 non-null  object        \n",
      " 1   NEIGHBORHOOD                    51996 non-null  object        \n",
      " 2   BUILDING CLASS CATEGORY         51996 non-null  object        \n",
      " 3   TAX CLASS AT PRESENT            51996 non-null  object        \n",
      " 4   BLOCK                           51996 non-null  int64         \n",
      " 5   LOT                             51996 non-null  int64         \n",
      " 6   BUILDING CLASS AT PRESENT       51996 non-null  object        \n",
      " 7   ZIP CODE                        51996 non-null  object        \n",
      " 8   RESIDENTIAL UNITS               51996 non-null  int64         \n",
      " 9   COMMERCIAL UNITS                51996 non-null  int64         \n",
      " 10  TOTAL UNITS                     51996 non-null  float64       \n",
      " 11  LAND SQUARE FEET                51996 non-null  float64       \n",
      " 12  GROSS SQUARE FEET               51996 non-null  float64       \n",
      " 13  YEAR BUILT                      51996 non-null  object        \n",
      " 14  TAX CLASS AT TIME OF SALE       51996 non-null  object        \n",
      " 15  BUILDING CLASS AT TIME OF SALE  51996 non-null  object        \n",
      " 16  SALE PRICE                      51996 non-null  float64       \n",
      " 17  SALE DATE                       51996 non-null  datetime64[ns]\n",
      "dtypes: datetime64[ns](1), float64(4), int64(4), object(9)\n",
      "memory usage: 7.5+ MB\n"
     ]
    }
   ],
   "source": [
    "df_nyc_sales.info()"
   ]
  },
  {
   "cell_type": "code",
   "execution_count": 29,
   "id": "e70bbe7d",
   "metadata": {
    "scrolled": true
   },
   "outputs": [
    {
     "data": {
      "text/plain": [
       "count    5.199600e+04\n",
       "mean     1.414616e+06\n",
       "std      1.297811e+07\n",
       "min      0.000000e+00\n",
       "25%      2.500000e+05\n",
       "50%      5.722560e+05\n",
       "75%      9.900000e+05\n",
       "max      2.210000e+09\n",
       "Name: SALE PRICE, dtype: float64"
      ]
     },
     "execution_count": 29,
     "metadata": {},
     "output_type": "execute_result"
    }
   ],
   "source": [
    "df_nyc_sales['SALE PRICE'].describe()"
   ]
  },
  {
   "cell_type": "code",
   "execution_count": 31,
   "id": "ad98d92a",
   "metadata": {},
   "outputs": [],
   "source": [
    "df_nyc_sales['BOROUGH'].replace({'1':'Manhattan','2':'Bronx','3':'Brooklyn','4':'Queens','5':'Staten Island'},inplace=True)"
   ]
  },
  {
   "attachments": {},
   "cell_type": "markdown",
   "id": "c0315ca0",
   "metadata": {},
   "source": [
    "## Remove Outliers"
   ]
  },
  {
   "cell_type": "code",
   "execution_count": 33,
   "id": "4ceb5df4",
   "metadata": {},
   "outputs": [],
   "source": [
    "df_nyc_sales= df_nyc_sales[(df_nyc_sales['SALE PRICE']>100000) & (df_nyc_sales['SALE PRICE']<5000000)]"
   ]
  },
  {
   "cell_type": "code",
   "execution_count": 34,
   "id": "4c30fcfc",
   "metadata": {},
   "outputs": [
    {
     "data": {
      "image/png": "[encoded data removed]",
      "text/plain": [
       "<Figure size 1000x600 with 1 Axes>"
      ]
     },
     "metadata": {},
     "output_type": "display_data"
    }
   ],
   "source": [
    "# do the same as above to get data property proportion and plot the data, then see the result\n",
    "x = df_nyc_sales[['SALE PRICE']].sort_values(by='SALE PRICE').reset_index()\n",
    "x['PROPERTY PROPORTION']= 1\n",
    "x['PROPERTY PROPORTION']= x['PROPERTY PROPORTION'].cumsum()\n",
    "x['PROPERTY PROPORTION'] = 100 * x['PROPERTY PROPORTION']/len(x['PROPERTY PROPORTION'])\n",
    "\n",
    "plt.figure(figsize=(10,6))\n",
    "plt.plot(x['PROPERTY PROPORTION'], x['SALE PRICE'], linestyle=None, marker='*')\n",
    "plt.title(\"Cumulative Distribution of Properties based on Price\")\n",
    "plt.xlabel(\"Percentage of Properties based on Price \")\n",
    "plt.ylabel(\"Sale Price\")\n",
    "plt.ticklabel_format(style='plain',axis='y')\n",
    "plt.show()"
   ]
  },
  {
   "attachments": {},
   "cell_type": "markdown",
   "id": "298b6ce6",
   "metadata": {},
   "source": [
    "Data distribusi sudah tidak ada outliers"
   ]
  },
  {
   "cell_type": "code",
   "execution_count": 35,
   "id": "8e2fbca8",
   "metadata": {
    "scrolled": true
   },
   "outputs": [
    {
     "data": {
      "image/png": "[encoded data removed]",
      "text/plain": [
       "<Figure size 1000x600 with 1 Axes>"
      ]
     },
     "metadata": {},
     "output_type": "display_data"
    }
   ],
   "source": [
    "# plot curve using boxplot to see another view of the data\n",
    "plt.figure(figsize=(10,6))\n",
    "sns.boxplot(x='SALE PRICE', data=df_nyc_sales)\n",
    "plt.ticklabel_format(style='plain', axis='x')\n",
    "plt.title(\"Boxplot of SALE PRICE (USD)\")\n",
    "plt.show()"
   ]
  },
  {
   "attachments": {},
   "cell_type": "markdown",
   "id": "c6e32ee5",
   "metadata": {},
   "source": [
    "ploting menggunakan kurva boxplot dapat kita lihat sudah tidak ada outliers, data sudah lebih baik"
   ]
  },
  {
   "cell_type": "code",
   "execution_count": 36,
   "id": "a84d7f0b",
   "metadata": {},
   "outputs": [
    {
     "name": "stdout",
     "output_type": "stream",
     "text": [
      "934758.9835989955\n",
      "688000.0\n"
     ]
    }
   ],
   "source": [
    "mean = df_nyc_sales['SALE PRICE'].mean()\n",
    "median= df_nyc_sales['SALE PRICE'].median()\n",
    "print(mean)\n",
    "print(median)"
   ]
  },
  {
   "cell_type": "code",
   "execution_count": 37,
   "id": "94dceae9",
   "metadata": {
    "scrolled": true
   },
   "outputs": [
    {
     "name": "stderr",
     "output_type": "stream",
     "text": [
      "C:\\Users\\Bintang\\anaconda3\\lib\\site-packages\\seaborn\\distributions.py:2619: FutureWarning: `distplot` is a deprecated function and will be removed in a future version. Please adapt your code to use either `displot` (a figure-level function with similar flexibility) or `histplot` (an axes-level function for histograms).\n",
      "  warnings.warn(msg, FutureWarning)\n"
     ]
    },
    {
     "data": {
      "image/png": "[encoded data removed]",
      "text/plain": [
       "<Figure size 1000x600 with 1 Axes>"
      ]
     },
     "metadata": {},
     "output_type": "display_data"
    }
   ],
   "source": [
    "#let's take a look distribution of the data, the data is skewness or normal distribution\n",
    "plt.figure(figsize=(10,6))\n",
    "sns.distplot(df_nyc_sales['SALE PRICE'])\n",
    "plt.title('Histogram of Sale Price (USD)')\n",
    "plt.ylabel(\"Frequncy\")\n",
    "plt.axvline(df_nyc_sales[(df_nyc_sales['SALE PRICE']>100000) & (df_nyc_sales['SALE PRICE'] < 5000000)]['SALE PRICE'].mean(), c='red')\n",
    "plt.axvline(df_nyc_sales[(df_nyc_sales['SALE PRICE']>100000) & (df_nyc_sales['SALE PRICE'] < 5000000)]['SALE PRICE'].median(), c='blue')\n",
    "plt.text(200000,0.0000013, \"median\")\n",
    "plt.text(850000,0.0000011, \"mean\")\n",
    "plt.show()"
   ]
  },
  {
   "attachments": {},
   "cell_type": "markdown",
   "id": "470aedab",
   "metadata": {},
   "source": [
    "Sebaran data diatas menunjukkan adanya positive skewness karena nilai Mean lebih besar daripada Median"
   ]
  },
  {
   "cell_type": "code",
   "execution_count": 38,
   "id": "669c25e6",
   "metadata": {
    "scrolled": true
   },
   "outputs": [
    {
     "name": "stderr",
     "output_type": "stream",
     "text": [
      "C:\\Users\\Bintang\\AppData\\Local\\Temp\\ipykernel_6296\\3990714848.py:2: SettingWithCopyWarning: \n",
      "A value is trying to be set on a copy of a slice from a DataFrame.\n",
      "Try using .loc[row_indexer,col_indexer] = value instead\n",
      "\n",
      "See the caveats in the documentation: https://pandas.pydata.org/pandas-docs/stable/user_guide/indexing.html#returning-a-view-versus-a-copy\n",
      "  df_nyc_sales['SALE PRICE']=np.log(df_nyc_sales['SALE PRICE'])\n",
      "C:\\Users\\Bintang\\anaconda3\\lib\\site-packages\\seaborn\\distributions.py:2619: FutureWarning: `distplot` is a deprecated function and will be removed in a future version. Please adapt your code to use either `displot` (a figure-level function with similar flexibility) or `histplot` (an axes-level function for histograms).\n",
      "  warnings.warn(msg, FutureWarning)\n"
     ]
    },
    {
     "name": "stdout",
     "output_type": "stream",
     "text": [
      "0.27222411776730127\n"
     ]
    },
    {
     "data": {
      "text/plain": [
       "<AxesSubplot:xlabel='SALE PRICE', ylabel='Density'>"
      ]
     },
     "execution_count": 38,
     "metadata": {},
     "output_type": "execute_result"
    },
    {
     "data": {
      "image/png": "[encoded data removed]",
      "text/plain": [
       "<Figure size 640x480 with 1 Axes>"
      ]
     },
     "metadata": {},
     "output_type": "display_data"
    }
   ],
   "source": [
    "# let's normalize the data\n",
    "df_nyc_sales['SALE PRICE']=np.log(df_nyc_sales['SALE PRICE'])\n",
    "print(df_nyc_sales['SALE PRICE'].skew())\n",
    "sns.distplot(df_nyc_sales['SALE PRICE'])"
   ]
  },
  {
   "attachments": {},
   "cell_type": "markdown",
   "id": "e65d15f4",
   "metadata": {},
   "source": [
    "Data distribusi sudah tidak terdapat skewness yang berarti sebaran data sudah normal"
   ]
  },
  {
   "cell_type": "code",
   "execution_count": 39,
   "id": "c2bbedfa",
   "metadata": {},
   "outputs": [
    {
     "name": "stdout",
     "output_type": "stream",
     "text": [
      "Empty DataFrame\n",
      "Columns: []\n",
      "Index: [percent missing, num of missing]\n"
     ]
    }
   ],
   "source": [
    "missing_value = df_nyc_sales.isnull().sum()/len(df_nyc_sales)*100\n",
    "print(pd.DataFrame([missing_value[missing_value>0], pd.Series(df_nyc_sales.isnull().sum()[df_nyc_sales.isnull().sum()>1000])],\n",
    "                  index=['percent missing', 'num of missing']))"
   ]
  },
  {
   "cell_type": "code",
   "execution_count": 40,
   "id": "b79ea3f7",
   "metadata": {},
   "outputs": [
    {
     "name": "stderr",
     "output_type": "stream",
     "text": [
      "C:\\Users\\Bintang\\AppData\\Local\\Temp\\ipykernel_6296\\1687702707.py:1: FutureWarning: ['BOROUGH', 'NEIGHBORHOOD', 'BUILDING CLASS CATEGORY', 'TAX CLASS AT PRESENT', 'BUILDING CLASS AT PRESENT', 'BUILDING CLASS AT TIME OF SALE', 'SALE DATE'] did not aggregate successfully. If any error is raised this will raise in a future version of pandas. Drop these columns/ops to avoid this warning.\n",
      "  df_nyc_sales.agg(['skew','kurtosis']).transpose()\n"
     ]
    },
    {
     "data": {
      "text/html": [
       "<div>\n",
       "<style scoped>\n",
       "    .dataframe tbody tr th:only-of-type {\n",
       "        vertical-align: middle;\n",
       "    }\n",
       "\n",
       "    .dataframe tbody tr th {\n",
       "        vertical-align: top;\n",
       "    }\n",
       "\n",
       "    .dataframe thead th {\n",
       "        text-align: right;\n",
       "    }\n",
       "</style>\n",
       "<table border=\"1\" class=\"dataframe\">\n",
       "  <thead>\n",
       "    <tr style=\"text-align: right;\">\n",
       "      <th></th>\n",
       "      <th>skew</th>\n",
       "      <th>kurtosis</th>\n",
       "    </tr>\n",
       "  </thead>\n",
       "  <tbody>\n",
       "    <tr>\n",
       "      <th>BLOCK</th>\n",
       "      <td>0.921043</td>\n",
       "      <td>0.258215</td>\n",
       "    </tr>\n",
       "    <tr>\n",
       "      <th>LOT</th>\n",
       "      <td>2.851858</td>\n",
       "      <td>16.271653</td>\n",
       "    </tr>\n",
       "    <tr>\n",
       "      <th>ZIP CODE</th>\n",
       "      <td>-0.558922</td>\n",
       "      <td>-1.379638</td>\n",
       "    </tr>\n",
       "    <tr>\n",
       "      <th>RESIDENTIAL UNITS</th>\n",
       "      <td>136.971711</td>\n",
       "      <td>22688.983139</td>\n",
       "    </tr>\n",
       "    <tr>\n",
       "      <th>COMMERCIAL UNITS</th>\n",
       "      <td>195.180187</td>\n",
       "      <td>38384.102443</td>\n",
       "    </tr>\n",
       "    <tr>\n",
       "      <th>TOTAL UNITS</th>\n",
       "      <td>119.707179</td>\n",
       "      <td>15842.138846</td>\n",
       "    </tr>\n",
       "    <tr>\n",
       "      <th>LAND SQUARE FEET</th>\n",
       "      <td>123.341328</td>\n",
       "      <td>17698.545768</td>\n",
       "    </tr>\n",
       "    <tr>\n",
       "      <th>GROSS SQUARE FEET</th>\n",
       "      <td>152.700548</td>\n",
       "      <td>26866.631535</td>\n",
       "    </tr>\n",
       "    <tr>\n",
       "      <th>YEAR BUILT</th>\n",
       "      <td>0.429661</td>\n",
       "      <td>-1.017463</td>\n",
       "    </tr>\n",
       "    <tr>\n",
       "      <th>TAX CLASS AT TIME OF SALE</th>\n",
       "      <td>2.019382</td>\n",
       "      <td>4.896097</td>\n",
       "    </tr>\n",
       "    <tr>\n",
       "      <th>SALE PRICE</th>\n",
       "      <td>0.272224</td>\n",
       "      <td>0.153036</td>\n",
       "    </tr>\n",
       "  </tbody>\n",
       "</table>\n",
       "</div>"
      ],
      "text/plain": [
       "                                 skew      kurtosis\n",
       "BLOCK                        0.921043      0.258215\n",
       "LOT                          2.851858     16.271653\n",
       "ZIP CODE                    -0.558922     -1.379638\n",
       "RESIDENTIAL UNITS          136.971711  22688.983139\n",
       "COMMERCIAL UNITS           195.180187  38384.102443\n",
       "TOTAL UNITS                119.707179  15842.138846\n",
       "LAND SQUARE FEET           123.341328  17698.545768\n",
       "GROSS SQUARE FEET          152.700548  26866.631535\n",
       "YEAR BUILT                   0.429661     -1.017463\n",
       "TAX CLASS AT TIME OF SALE    2.019382      4.896097\n",
       "SALE PRICE                   0.272224      0.153036"
      ]
     },
     "execution_count": 40,
     "metadata": {},
     "output_type": "execute_result"
    }
   ],
   "source": [
    "df_nyc_sales.agg(['skew','kurtosis']).transpose()"
   ]
  },
  {
   "cell_type": "code",
   "execution_count": 41,
   "id": "8d6e3ddc",
   "metadata": {},
   "outputs": [
    {
     "data": {
      "image/png": "[encoded data removed]",
      "text/plain": [
       "<Figure size 1000x1000 with 2 Axes>"
      ]
     },
     "metadata": {},
     "output_type": "display_data"
    }
   ],
   "source": [
    "plt.figure(figsize=(10,10))\n",
    "sns.heatmap(df_nyc_sales.corr(), annot=True)\n",
    "plt.show()"
   ]
  },
  {
   "cell_type": "code",
   "execution_count": 42,
   "id": "cba4e3dd",
   "metadata": {
    "scrolled": true
   },
   "outputs": [
    {
     "data": {
      "text/html": [
       "<div>\n",
       "<style scoped>\n",
       "    .dataframe tbody tr th:only-of-type {\n",
       "        vertical-align: middle;\n",
       "    }\n",
       "\n",
       "    .dataframe tbody tr th {\n",
       "        vertical-align: top;\n",
       "    }\n",
       "\n",
       "    .dataframe thead th {\n",
       "        text-align: right;\n",
       "    }\n",
       "</style>\n",
       "<table border=\"1\" class=\"dataframe\">\n",
       "  <thead>\n",
       "    <tr style=\"text-align: right;\">\n",
       "      <th></th>\n",
       "      <th>BLOCK</th>\n",
       "      <th>LOT</th>\n",
       "      <th>RESIDENTIAL UNITS</th>\n",
       "      <th>COMMERCIAL UNITS</th>\n",
       "      <th>TOTAL UNITS</th>\n",
       "      <th>LAND SQUARE FEET</th>\n",
       "      <th>GROSS SQUARE FEET</th>\n",
       "      <th>SALE PRICE</th>\n",
       "    </tr>\n",
       "  </thead>\n",
       "  <tbody>\n",
       "    <tr>\n",
       "      <th>count</th>\n",
       "      <td>39022.000000</td>\n",
       "      <td>39022.000000</td>\n",
       "      <td>39022.000000</td>\n",
       "      <td>39022.000000</td>\n",
       "      <td>39022.000000</td>\n",
       "      <td>3.902200e+04</td>\n",
       "      <td>3.902200e+04</td>\n",
       "      <td>39022.000000</td>\n",
       "    </tr>\n",
       "    <tr>\n",
       "      <th>mean</th>\n",
       "      <td>4687.325073</td>\n",
       "      <td>463.691046</td>\n",
       "      <td>1.732946</td>\n",
       "      <td>0.139716</td>\n",
       "      <td>1.881657</td>\n",
       "      <td>2.956819e+03</td>\n",
       "      <td>2.187916e+03</td>\n",
       "      <td>13.490395</td>\n",
       "    </tr>\n",
       "    <tr>\n",
       "      <th>std</th>\n",
       "      <td>3731.651471</td>\n",
       "      <td>714.394812</td>\n",
       "      <td>10.706426</td>\n",
       "      <td>11.492687</td>\n",
       "      <td>15.770253</td>\n",
       "      <td>2.657461e+04</td>\n",
       "      <td>2.085157e+04</td>\n",
       "      <td>0.696829</td>\n",
       "    </tr>\n",
       "    <tr>\n",
       "      <th>min</th>\n",
       "      <td>1.000000</td>\n",
       "      <td>1.000000</td>\n",
       "      <td>0.000000</td>\n",
       "      <td>0.000000</td>\n",
       "      <td>1.000000</td>\n",
       "      <td>0.000000e+00</td>\n",
       "      <td>0.000000e+00</td>\n",
       "      <td>11.519901</td>\n",
       "    </tr>\n",
       "    <tr>\n",
       "      <th>25%</th>\n",
       "      <td>1532.000000</td>\n",
       "      <td>28.000000</td>\n",
       "      <td>1.000000</td>\n",
       "      <td>0.000000</td>\n",
       "      <td>1.000000</td>\n",
       "      <td>1.958000e+03</td>\n",
       "      <td>1.280000e+03</td>\n",
       "      <td>13.038982</td>\n",
       "    </tr>\n",
       "    <tr>\n",
       "      <th>50%</th>\n",
       "      <td>4010.000000</td>\n",
       "      <td>62.000000</td>\n",
       "      <td>1.000000</td>\n",
       "      <td>0.000000</td>\n",
       "      <td>1.000000</td>\n",
       "      <td>2.325000e+03</td>\n",
       "      <td>1.680000e+03</td>\n",
       "      <td>13.441544</td>\n",
       "    </tr>\n",
       "    <tr>\n",
       "      <th>75%</th>\n",
       "      <td>6799.000000</td>\n",
       "      <td>1027.000000</td>\n",
       "      <td>2.000000</td>\n",
       "      <td>0.000000</td>\n",
       "      <td>2.000000</td>\n",
       "      <td>3.000000e+03</td>\n",
       "      <td>2.144000e+03</td>\n",
       "      <td>13.893430</td>\n",
       "    </tr>\n",
       "    <tr>\n",
       "      <th>max</th>\n",
       "      <td>16319.000000</td>\n",
       "      <td>9106.000000</td>\n",
       "      <td>1844.000000</td>\n",
       "      <td>2261.000000</td>\n",
       "      <td>2261.000000</td>\n",
       "      <td>4.228300e+06</td>\n",
       "      <td>3.750565e+06</td>\n",
       "      <td>15.424316</td>\n",
       "    </tr>\n",
       "  </tbody>\n",
       "</table>\n",
       "</div>"
      ],
      "text/plain": [
       "              BLOCK           LOT  RESIDENTIAL UNITS  COMMERCIAL UNITS  \\\n",
       "count  39022.000000  39022.000000       39022.000000      39022.000000   \n",
       "mean    4687.325073    463.691046           1.732946          0.139716   \n",
       "std     3731.651471    714.394812          10.706426         11.492687   \n",
       "min        1.000000      1.000000           0.000000          0.000000   \n",
       "25%     1532.000000     28.000000           1.000000          0.000000   \n",
       "50%     4010.000000     62.000000           1.000000          0.000000   \n",
       "75%     6799.000000   1027.000000           2.000000          0.000000   \n",
       "max    16319.000000   9106.000000        1844.000000       2261.000000   \n",
       "\n",
       "        TOTAL UNITS  LAND SQUARE FEET  GROSS SQUARE FEET    SALE PRICE  \n",
       "count  39022.000000      3.902200e+04       3.902200e+04  39022.000000  \n",
       "mean       1.881657      2.956819e+03       2.187916e+03     13.490395  \n",
       "std       15.770253      2.657461e+04       2.085157e+04      0.696829  \n",
       "min        1.000000      0.000000e+00       0.000000e+00     11.519901  \n",
       "25%        1.000000      1.958000e+03       1.280000e+03     13.038982  \n",
       "50%        1.000000      2.325000e+03       1.680000e+03     13.441544  \n",
       "75%        2.000000      3.000000e+03       2.144000e+03     13.893430  \n",
       "max     2261.000000      4.228300e+06       3.750565e+06     15.424316  "
      ]
     },
     "execution_count": 42,
     "metadata": {},
     "output_type": "execute_result"
    }
   ],
   "source": [
    "df_nyc_sales.describe()"
   ]
  },
  {
   "attachments": {},
   "cell_type": "markdown",
   "id": "3cc7bd70",
   "metadata": {},
   "source": [
    "Dari deskripsi statistik data diatas, dataset terlihat banyak memiliki outliers terutama data yang berhubungan dengan properti unit"
   ]
  },
  {
   "cell_type": "code",
   "execution_count": 43,
   "id": "4afc4f59",
   "metadata": {},
   "outputs": [
    {
     "data": {
      "image/png": "[encoded data removed]",
      "text/plain": [
       "<Figure size 640x480 with 1 Axes>"
      ]
     },
     "metadata": {},
     "output_type": "display_data"
    },
    {
     "data": {
      "image/png": "[encoded data removed]",
      "text/plain": [
       "<Figure size 640x480 with 1 Axes>"
      ]
     },
     "metadata": {},
     "output_type": "display_data"
    }
   ],
   "source": [
    "sns.boxplot(x='GROSS SQUARE FEET',data=df_nyc_sales)\n",
    "plt.title('GROSS SQUARE FEET per property')\n",
    "plt.show()\n",
    "\n",
    "sns.boxplot(x='LAND SQUARE FEET',data=df_nyc_sales)\n",
    "plt.title('LAND SQUARE FEET per property')\n",
    "plt.show()"
   ]
  },
  {
   "cell_type": "code",
   "execution_count": 44,
   "id": "d3b55ae4",
   "metadata": {},
   "outputs": [],
   "source": [
    "# untuk menghilangkan outliers, ambil data kurang dari 20000\n",
    "df_nyc_sales = df_nyc_sales[df_nyc_sales['GROSS SQUARE FEET'] < 20000]\n",
    "df_nyc_sales = df_nyc_sales[df_nyc_sales['LAND SQUARE FEET'] < 20000]"
   ]
  },
  {
   "cell_type": "code",
   "execution_count": 45,
   "id": "e221489b",
   "metadata": {},
   "outputs": [
    {
     "data": {
      "image/png": "[encoded data removed]",
      "text/plain": [
       "<Figure size 640x480 with 1 Axes>"
      ]
     },
     "metadata": {},
     "output_type": "display_data"
    },
    {
     "data": {
      "image/png": "[encoded data removed]",
      "text/plain": [
       "<Figure size 640x480 with 1 Axes>"
      ]
     },
     "metadata": {},
     "output_type": "display_data"
    }
   ],
   "source": [
    "sns.boxplot(x='GROSS SQUARE FEET',data=df_nyc_sales)\n",
    "plt.title('GROSS SQUARE FEET per property')\n",
    "plt.show()\n",
    "\n",
    "sns.boxplot(x='LAND SQUARE FEET',data=df_nyc_sales)\n",
    "plt.title('LAND SQUARE FEET per property')\n",
    "plt.show()"
   ]
  },
  {
   "cell_type": "code",
   "execution_count": 46,
   "id": "dbf96fb8",
   "metadata": {},
   "outputs": [
    {
     "data": {
      "image/png": "[encoded data removed]",
      "text/plain": [
       "<Figure size 640x480 with 1 Axes>"
      ]
     },
     "metadata": {},
     "output_type": "display_data"
    },
    {
     "data": {
      "image/png": "[encoded data removed]",
      "text/plain": [
       "<Figure size 640x480 with 1 Axes>"
      ]
     },
     "metadata": {},
     "output_type": "display_data"
    },
    {
     "data": {
      "image/png": "[encoded data removed]",
      "text/plain": [
       "<Figure size 640x480 with 1 Axes>"
      ]
     },
     "metadata": {},
     "output_type": "display_data"
    }
   ],
   "source": [
    "# ploting using boxplot to see the outliers\n",
    "sns.boxplot(x='RESIDENTIAL UNITS',data=df_nyc_sales)\n",
    "plt.title('RESIDENTIAL UNITS')\n",
    "plt.show()\n",
    "\n",
    "sns.boxplot(x='COMMERCIAL UNITS',data=df_nyc_sales)\n",
    "plt.title('COMMERCIAL UNITS')\n",
    "plt.show()\n",
    "\n",
    "sns.boxplot(x='TOTAL UNITS',data=df_nyc_sales)\n",
    "plt.title('TOTAL UNITS')\n",
    "plt.show()"
   ]
  },
  {
   "cell_type": "code",
   "execution_count": 47,
   "id": "e8f8dc74",
   "metadata": {
    "scrolled": true
   },
   "outputs": [
    {
     "data": {
      "image/png": "[encoded data removed]",
      "text/plain": [
       "<Figure size 640x480 with 1 Axes>"
      ]
     },
     "metadata": {},
     "output_type": "display_data"
    },
    {
     "data": {
      "image/png": "[encoded data removed]",
      "text/plain": [
       "<Figure size 640x480 with 1 Axes>"
      ]
     },
     "metadata": {},
     "output_type": "display_data"
    },
    {
     "data": {
      "image/png": "[encoded data removed]",
      "text/plain": [
       "<Figure size 640x480 with 1 Axes>"
      ]
     },
     "metadata": {},
     "output_type": "display_data"
    }
   ],
   "source": [
    "# hapus data properti sisa yang memiliki nilai 0 unit total\n",
    "df_nyc_sales = df_nyc_sales[(df_nyc_sales['TOTAL UNITS'] > 0) & (df_nyc_sales['TOTAL UNITS'] < 30)]\n",
    "\n",
    "#Hapus data dimana 'COMMERCIAL UNITS' + 'RESIDENTIAL UNITS' tidak sama dengan total units\n",
    "df_nyc_sales = df_nyc_sales[df_nyc_sales['TOTAL UNITS'] == df_nyc_sales['COMMERCIAL UNITS'] + df_nyc_sales['RESIDENTIAL UNITS']]\n",
    "sns.boxplot(x='RESIDENTIAL UNITS',data=df_nyc_sales)\n",
    "plt.title('RESIDENTIAL UNITS')\n",
    "plt.show()\n",
    "\n",
    "sns.boxplot(x='COMMERCIAL UNITS',data=df_nyc_sales)\n",
    "plt.title('COMMERCIAL UNITS')\n",
    "plt.show()\n",
    "\n",
    "sns.boxplot(x='TOTAL UNITS',data=df_nyc_sales)\n",
    "plt.title('TOTAL UNITS')\n",
    "plt.show()"
   ]
  },
  {
   "attachments": {},
   "cell_type": "markdown",
   "id": "46e02bb2",
   "metadata": {},
   "source": [
    "# Pengukuran Tendensi Sentral"
   ]
  },
  {
   "attachments": {},
   "cell_type": "markdown",
   "id": "4ba3d6e5",
   "metadata": {},
   "source": [
    "## Mean"
   ]
  },
  {
   "cell_type": "code",
   "execution_count": 48,
   "id": "106b8075",
   "metadata": {},
   "outputs": [
    {
     "name": "stdout",
     "output_type": "stream",
     "text": [
      "Mean SALE PRICE =  13.4868288382648\n",
      "Median SALE PRICE =  13.437174117244362\n"
     ]
    }
   ],
   "source": [
    "print(\"Mean SALE PRICE = \", df_nyc_sales['SALE PRICE'].mean())\n",
    "print(\"Median SALE PRICE = \",df_nyc_sales['SALE PRICE'].median())"
   ]
  },
  {
   "attachments": {},
   "cell_type": "markdown",
   "id": "9a7c9a77",
   "metadata": {},
   "source": [
    "Hasil mean dan median untuk kolom 'SALE PRICE' menunjukkan bahwa distribusi data dari atribut ini belum normal, yang ditandai dengan nilai mean lebih besar dari median. Data cenderung condong ke kanan."
   ]
  },
  {
   "attachments": {},
   "cell_type": "markdown",
   "id": "0d737d63",
   "metadata": {},
   "source": [
    "## Median"
   ]
  },
  {
   "cell_type": "code",
   "execution_count": 49,
   "id": "3aba20f1",
   "metadata": {},
   "outputs": [
    {
     "name": "stdout",
     "output_type": "stream",
     "text": [
      "Median GROSS SQUARE FEET =  1680.0\n",
      "Mean GROSS SQUARE FEET =  1830.1244601696237\n"
     ]
    }
   ],
   "source": [
    "print(\"Median GROSS SQUARE FEET = \", df_nyc_sales['GROSS SQUARE FEET'].median())\n",
    "print(\"Mean GROSS SQUARE FEET = \", df_nyc_sales['GROSS SQUARE FEET'].mean())"
   ]
  },
  {
   "cell_type": "code",
   "execution_count": 50,
   "id": "96ecb862",
   "metadata": {},
   "outputs": [
    {
     "name": "stdout",
     "output_type": "stream",
     "text": [
      "Median LAND SQUARE FEET =  2325.0\n",
      "Mean LAND SQUARE FEET =  2577.078099797076\n"
     ]
    }
   ],
   "source": [
    "print(\"Median LAND SQUARE FEET = \", df_nyc_sales['LAND SQUARE FEET'].median())\n",
    "print(\"Mean LAND SQUARE FEET = \", df_nyc_sales['LAND SQUARE FEET'].mean())"
   ]
  },
  {
   "cell_type": "code",
   "execution_count": 51,
   "id": "37cb1150",
   "metadata": {},
   "outputs": [
    {
     "name": "stdout",
     "output_type": "stream",
     "text": [
      "Modus BUILDING CLASS CATEGORY =  01 ONE FAMILY DWELLINGS                    \n",
      "Modus BUILDING CLASS AT PRESENT =  R4\n",
      "Modus BUILDING CLASS AT TIME OF SALE =  R4\n"
     ]
    }
   ],
   "source": [
    "cols = ['BUILDING CLASS CATEGORY', 'BUILDING CLASS AT PRESENT', 'BUILDING CLASS AT TIME OF SALE']\n",
    "for col in cols:\n",
    "    print(\"Modus \"+col+\" = \",df_nyc_sales[col].mode()[0])"
   ]
  },
  {
   "attachments": {},
   "cell_type": "markdown",
   "id": "91a674c1",
   "metadata": {},
   "source": [
    "# Measure of Spread"
   ]
  },
  {
   "attachments": {},
   "cell_type": "markdown",
   "id": "458f4246",
   "metadata": {},
   "source": [
    "## Range"
   ]
  },
  {
   "cell_type": "code",
   "execution_count": 52,
   "id": "4e7a4a41",
   "metadata": {},
   "outputs": [
    {
     "name": "stdout",
     "output_type": "stream",
     "text": [
      "Range GROSS SQUARE FEET =  19892.0\n",
      "Range SALE PRICE =  3.9044153920219955\n"
     ]
    }
   ],
   "source": [
    "print('Range GROSS SQUARE FEET = ', (df_nyc_sales['GROSS SQUARE FEET'].max() - df_nyc_sales['GROSS SQUARE FEET'].min()))\n",
    "print('Range SALE PRICE = ', (df_nyc_sales['SALE PRICE'].max() - df_nyc_sales['SALE PRICE'].min()))"
   ]
  },
  {
   "attachments": {},
   "cell_type": "markdown",
   "id": "dacf0f87",
   "metadata": {},
   "source": [
    "## Variance"
   ]
  },
  {
   "cell_type": "code",
   "execution_count": 53,
   "id": "1ed10f01",
   "metadata": {},
   "outputs": [
    {
     "name": "stdout",
     "output_type": "stream",
     "text": [
      "Sampel Variance dari GROSS SQUARE FEET =  1888166.2406685778\n",
      "Sampel Variance dari SALE PRICE =  0.47277989819205596\n"
     ]
    }
   ],
   "source": [
    "print('Sampel Variance dari GROSS SQUARE FEET = ', df_nyc_sales['GROSS SQUARE FEET'].var(ddof=1))\n",
    "print('Sampel Variance dari SALE PRICE = ', df_nyc_sales['SALE PRICE'].var(ddof=1))"
   ]
  },
  {
   "attachments": {},
   "cell_type": "markdown",
   "id": "1833e782",
   "metadata": {},
   "source": [
    "## Standard Deviation"
   ]
  },
  {
   "cell_type": "code",
   "execution_count": 54,
   "id": "b81c7c2d",
   "metadata": {},
   "outputs": [
    {
     "name": "stdout",
     "output_type": "stream",
     "text": [
      "Sampel Standard Deviation dari GROSS SQUARE FEET =  1374.1056148158982\n",
      "Sampel Standard Deviation dari SALE PRICE =  0.6875899200774077\n"
     ]
    }
   ],
   "source": [
    "print('Sampel Standard Deviation dari GROSS SQUARE FEET = ', df_nyc_sales['GROSS SQUARE FEET'].var(ddof=1)**0.5)\n",
    "print('Sampel Standard Deviation dari SALE PRICE = ', df_nyc_sales['SALE PRICE'].var(ddof=1)**0.5)"
   ]
  },
  {
   "attachments": {},
   "cell_type": "markdown",
   "id": "a63b919a",
   "metadata": {},
   "source": [
    "# Confidence Intervals"
   ]
  },
  {
   "attachments": {},
   "cell_type": "markdown",
   "id": "09d78b4c",
   "metadata": {},
   "source": [
    "Confidence Intervals pada kasus ini akan digunakan untuk mengestimasi rata-rata harga jual properti di New York dari tahun 2016 - 2017"
   ]
  },
  {
   "attachments": {},
   "cell_type": "markdown",
   "id": "c4c6ed59",
   "metadata": {},
   "source": [
    "## Hitung rata-rata populasi"
   ]
  },
  {
   "cell_type": "code",
   "execution_count": 55,
   "id": "f40e5e5c",
   "metadata": {},
   "outputs": [
    {
     "data": {
      "text/plain": [
       "13.4868288382648"
      ]
     },
     "execution_count": 55,
     "metadata": {},
     "output_type": "execute_result"
    }
   ],
   "source": [
    "pop_mean_sale_price = df_nyc_sales['SALE PRICE'].mean()\n",
    "pop_mean_sale_price"
   ]
  },
  {
   "attachments": {},
   "cell_type": "markdown",
   "id": "461c608e",
   "metadata": {},
   "source": [
    "## Hitung standar deviasi populasi"
   ]
  },
  {
   "cell_type": "code",
   "execution_count": 56,
   "id": "f3d9b019",
   "metadata": {},
   "outputs": [
    {
     "data": {
      "text/plain": [
       "0.6875899200774077"
      ]
     },
     "execution_count": 56,
     "metadata": {},
     "output_type": "execute_result"
    }
   ],
   "source": [
    "pop_std_sale_price = df_nyc_sales['SALE PRICE'].std()\n",
    "pop_std_sale_price"
   ]
  },
  {
   "cell_type": "code",
   "execution_count": 57,
   "id": "dee800d5",
   "metadata": {},
   "outputs": [],
   "source": [
    "df_nyc_sales['BOROUGH'] = df_nyc_sales['BOROUGH'].astype(str)\n",
    "df_nyc_sales['BOROUGH'] = df_nyc_sales['BOROUGH'].str.replace(\"1\", \"Manhattan\")\n",
    "df_nyc_sales['BOROUGH'] = df_nyc_sales['BOROUGH'].str.replace(\"2\", \"Bronx\")\n",
    "df_nyc_sales['BOROUGH'] = df_nyc_sales['BOROUGH'].str.replace(\"3\", \"Brooklyn\")\n",
    "df_nyc_sales['BOROUGH'] = df_nyc_sales['BOROUGH'].str.replace(\"4\", \"Queens\")\n",
    "df_nyc_sales['BOROUGH'] = df_nyc_sales['BOROUGH'].str.replace(\"5\", \"Staten Island\")"
   ]
  },
  {
   "cell_type": "code",
   "execution_count": 58,
   "id": "f034b87c",
   "metadata": {},
   "outputs": [
    {
     "data": {
      "text/html": [
       "<div>\n",
       "<style scoped>\n",
       "    .dataframe tbody tr th:only-of-type {\n",
       "        vertical-align: middle;\n",
       "    }\n",
       "\n",
       "    .dataframe tbody tr th {\n",
       "        vertical-align: top;\n",
       "    }\n",
       "\n",
       "    .dataframe thead th {\n",
       "        text-align: right;\n",
       "    }\n",
       "</style>\n",
       "<table border=\"1\" class=\"dataframe\">\n",
       "  <thead>\n",
       "    <tr style=\"text-align: right;\">\n",
       "      <th></th>\n",
       "      <th>BOROUGH</th>\n",
       "      <th>NEIGHBORHOOD</th>\n",
       "      <th>BUILDING CLASS CATEGORY</th>\n",
       "      <th>TAX CLASS AT PRESENT</th>\n",
       "      <th>BLOCK</th>\n",
       "      <th>LOT</th>\n",
       "      <th>BUILDING CLASS AT PRESENT</th>\n",
       "      <th>ZIP CODE</th>\n",
       "      <th>RESIDENTIAL UNITS</th>\n",
       "      <th>COMMERCIAL UNITS</th>\n",
       "      <th>TOTAL UNITS</th>\n",
       "      <th>LAND SQUARE FEET</th>\n",
       "      <th>GROSS SQUARE FEET</th>\n",
       "      <th>YEAR BUILT</th>\n",
       "      <th>TAX CLASS AT TIME OF SALE</th>\n",
       "      <th>BUILDING CLASS AT TIME OF SALE</th>\n",
       "      <th>SALE PRICE</th>\n",
       "      <th>SALE DATE</th>\n",
       "    </tr>\n",
       "  </thead>\n",
       "  <tbody>\n",
       "    <tr>\n",
       "      <th>3</th>\n",
       "      <td>Manhattan</td>\n",
       "      <td>ALPHABET CITY</td>\n",
       "      <td>07 RENTALS - WALKUP APARTMENTS</td>\n",
       "      <td>2B</td>\n",
       "      <td>402</td>\n",
       "      <td>21</td>\n",
       "      <td>C4</td>\n",
       "      <td>10009.0</td>\n",
       "      <td>10</td>\n",
       "      <td>0</td>\n",
       "      <td>10.0</td>\n",
       "      <td>2272.0</td>\n",
       "      <td>6794.0</td>\n",
       "      <td>1913.0</td>\n",
       "      <td>2</td>\n",
       "      <td>C4</td>\n",
       "      <td>15.185745</td>\n",
       "      <td>2016-09-23</td>\n",
       "    </tr>\n",
       "    <tr>\n",
       "      <th>6</th>\n",
       "      <td>Manhattan</td>\n",
       "      <td>ALPHABET CITY</td>\n",
       "      <td>07 RENTALS - WALKUP APARTMENTS</td>\n",
       "      <td>2B</td>\n",
       "      <td>406</td>\n",
       "      <td>32</td>\n",
       "      <td>C4</td>\n",
       "      <td>10009.0</td>\n",
       "      <td>8</td>\n",
       "      <td>0</td>\n",
       "      <td>8.0</td>\n",
       "      <td>1750.0</td>\n",
       "      <td>4226.0</td>\n",
       "      <td>1920.0</td>\n",
       "      <td>2</td>\n",
       "      <td>C4</td>\n",
       "      <td>14.976421</td>\n",
       "      <td>2016-09-23</td>\n",
       "    </tr>\n",
       "    <tr>\n",
       "      <th>76</th>\n",
       "      <td>Manhattan</td>\n",
       "      <td>ALPHABET CITY</td>\n",
       "      <td>12 CONDOS - WALKUP APARTMENTS</td>\n",
       "      <td>2</td>\n",
       "      <td>386</td>\n",
       "      <td>1002</td>\n",
       "      <td>R2</td>\n",
       "      <td>10009.0</td>\n",
       "      <td>1</td>\n",
       "      <td>0</td>\n",
       "      <td>1.0</td>\n",
       "      <td>2325.0</td>\n",
       "      <td>1680.0</td>\n",
       "      <td>1920.0</td>\n",
       "      <td>2</td>\n",
       "      <td>R2</td>\n",
       "      <td>13.337475</td>\n",
       "      <td>2016-12-30</td>\n",
       "    </tr>\n",
       "    <tr>\n",
       "      <th>79</th>\n",
       "      <td>Manhattan</td>\n",
       "      <td>ALPHABET CITY</td>\n",
       "      <td>13 CONDOS - ELEVATOR APARTMENTS</td>\n",
       "      <td>2</td>\n",
       "      <td>373</td>\n",
       "      <td>1003</td>\n",
       "      <td>R4</td>\n",
       "      <td>10009.0</td>\n",
       "      <td>1</td>\n",
       "      <td>0</td>\n",
       "      <td>1.0</td>\n",
       "      <td>2325.0</td>\n",
       "      <td>1680.0</td>\n",
       "      <td>1920.0</td>\n",
       "      <td>2</td>\n",
       "      <td>R4</td>\n",
       "      <td>13.544579</td>\n",
       "      <td>2016-09-21</td>\n",
       "    </tr>\n",
       "    <tr>\n",
       "      <th>80</th>\n",
       "      <td>Manhattan</td>\n",
       "      <td>ALPHABET CITY</td>\n",
       "      <td>13 CONDOS - ELEVATOR APARTMENTS</td>\n",
       "      <td>2</td>\n",
       "      <td>373</td>\n",
       "      <td>1004</td>\n",
       "      <td>R4</td>\n",
       "      <td>10009.0</td>\n",
       "      <td>1</td>\n",
       "      <td>0</td>\n",
       "      <td>1.0</td>\n",
       "      <td>2325.0</td>\n",
       "      <td>1680.0</td>\n",
       "      <td>1920.0</td>\n",
       "      <td>2</td>\n",
       "      <td>R4</td>\n",
       "      <td>13.557842</td>\n",
       "      <td>2016-09-12</td>\n",
       "    </tr>\n",
       "  </tbody>\n",
       "</table>\n",
       "</div>"
      ],
      "text/plain": [
       "      BOROUGH   NEIGHBORHOOD                      BUILDING CLASS CATEGORY  \\\n",
       "3   Manhattan  ALPHABET CITY  07 RENTALS - WALKUP APARTMENTS                \n",
       "6   Manhattan  ALPHABET CITY  07 RENTALS - WALKUP APARTMENTS                \n",
       "76  Manhattan  ALPHABET CITY  12 CONDOS - WALKUP APARTMENTS                 \n",
       "79  Manhattan  ALPHABET CITY  13 CONDOS - ELEVATOR APARTMENTS               \n",
       "80  Manhattan  ALPHABET CITY  13 CONDOS - ELEVATOR APARTMENTS               \n",
       "\n",
       "   TAX CLASS AT PRESENT  BLOCK   LOT BUILDING CLASS AT PRESENT ZIP CODE  \\\n",
       "3                    2B    402    21                        C4  10009.0   \n",
       "6                    2B    406    32                        C4  10009.0   \n",
       "76                    2    386  1002                        R2  10009.0   \n",
       "79                    2    373  1003                        R4  10009.0   \n",
       "80                    2    373  1004                        R4  10009.0   \n",
       "\n",
       "    RESIDENTIAL UNITS  COMMERCIAL UNITS  TOTAL UNITS  LAND SQUARE FEET  \\\n",
       "3                  10                 0         10.0            2272.0   \n",
       "6                   8                 0          8.0            1750.0   \n",
       "76                  1                 0          1.0            2325.0   \n",
       "79                  1                 0          1.0            2325.0   \n",
       "80                  1                 0          1.0            2325.0   \n",
       "\n",
       "    GROSS SQUARE FEET YEAR BUILT TAX CLASS AT TIME OF SALE  \\\n",
       "3              6794.0     1913.0                         2   \n",
       "6              4226.0     1920.0                         2   \n",
       "76             1680.0     1920.0                         2   \n",
       "79             1680.0     1920.0                         2   \n",
       "80             1680.0     1920.0                         2   \n",
       "\n",
       "   BUILDING CLASS AT TIME OF SALE  SALE PRICE  SALE DATE  \n",
       "3                              C4   15.185745 2016-09-23  \n",
       "6                              C4   14.976421 2016-09-23  \n",
       "76                             R2   13.337475 2016-12-30  \n",
       "79                             R4   13.544579 2016-09-21  \n",
       "80                             R4   13.557842 2016-09-12  "
      ]
     },
     "execution_count": 58,
     "metadata": {},
     "output_type": "execute_result"
    }
   ],
   "source": [
    "df_nyc_sales.head()"
   ]
  },
  {
   "cell_type": "code",
   "execution_count": 59,
   "id": "7d52ad87",
   "metadata": {},
   "outputs": [
    {
     "name": "stdout",
     "output_type": "stream",
     "text": [
      "0    01 ONE FAMILY DWELLINGS                    \n",
      "Name: BUILDING CLASS CATEGORY, dtype: object\n"
     ]
    },
    {
     "data": {
      "text/plain": [
       "01 ONE FAMILY DWELLINGS                         12393\n",
       "02 TWO FAMILY DWELLINGS                          9565\n",
       "13 CONDOS - ELEVATOR APARTMENTS                  8924\n",
       "03 THREE FAMILY DWELLINGS                        2241\n",
       "07 RENTALS - WALKUP APARTMENTS                   1315\n",
       "04 TAX CLASS 1 CONDOS                            1203\n",
       "15 CONDOS - 2-10 UNIT RESIDENTIAL                 928\n",
       "12 CONDOS - WALKUP APARTMENTS                     645\n",
       "22 STORE BUILDINGS                                341\n",
       "14 RENTALS - 4-10 UNIT                            285\n",
       "29 COMMERCIAL GARAGES                             126\n",
       "21 OFFICE BUILDINGS                               114\n",
       "30 WAREHOUSES                                     107\n",
       "27 FACTORIES                                       62\n",
       "37 RELIGIOUS FACILITIES                            36\n",
       "05 TAX CLASS 1 VACANT LAND                         36\n",
       "16 CONDOS - 2-10 UNIT WITH COMMERCIAL UNIT         25\n",
       "33 EDUCATIONAL FACILITIES                          12\n",
       "31 COMMERCIAL VACANT LAND                           9\n",
       "32 HOSPITAL AND HEALTH FACILITIES                   9\n",
       "06 TAX CLASS 1 - OTHER                              9\n",
       "11A CONDO-RENTALS                                   9\n",
       "41 TAX CLASS 4 - OTHER                              8\n",
       "08 RENTALS - ELEVATOR APARTMENTS                    8\n",
       "35 INDOOR PUBLIC AND CULTURAL FACILITIES            8\n",
       "28 COMMERCIAL CONDOS                                6\n",
       "23 LOFT BUILDINGS                                   4\n",
       "26 OTHER HOTELS                                     4\n",
       "38 ASYLUMS AND HOMES                                4\n",
       "09 COOPS - WALKUP APARTMENTS                        1\n",
       "10 COOPS - ELEVATOR APARTMENTS                      1\n",
       "Name: BUILDING CLASS CATEGORY, dtype: int64"
      ]
     },
     "execution_count": 59,
     "metadata": {},
     "output_type": "execute_result"
    }
   ],
   "source": [
    "print(df_nyc_sales['BUILDING CLASS CATEGORY'].mode())\n",
    "df_nyc_sales['BUILDING CLASS CATEGORY'].value_counts()"
   ]
  },
  {
   "attachments": {},
   "cell_type": "markdown",
   "id": "f489ce54",
   "metadata": {},
   "source": [
    "BUILDING CLASS CATEGORY yang paling banyak muncul pada dataset ini adalah ONE FAMILY DWELLINGS dengan jumlah total 12327"
   ]
  },
  {
   "cell_type": "code",
   "execution_count": 60,
   "id": "88262b7f",
   "metadata": {},
   "outputs": [
    {
     "name": "stderr",
     "output_type": "stream",
     "text": [
      "C:\\Users\\Bintang\\AppData\\Local\\Temp\\ipykernel_6296\\492960935.py:1: FutureWarning: Dropping of nuisance columns in DataFrame reductions (with 'numeric_only=None') is deprecated; in a future version this will raise TypeError.  Select only valid columns before calling the reduction.\n",
      "  df_nyc_sales.var()\n"
     ]
    },
    {
     "data": {
      "text/plain": [
       "BLOCK                1.397140e+07\n",
       "LOT                  5.094178e+05\n",
       "RESIDENTIAL UNITS    1.792915e+00\n",
       "COMMERCIAL UNITS     1.616931e-01\n",
       "TOTAL UNITS          1.977390e+00\n",
       "LAND SQUARE FEET     3.085213e+06\n",
       "GROSS SQUARE FEET    1.888166e+06\n",
       "SALE PRICE           4.727799e-01\n",
       "dtype: float64"
      ]
     },
     "execution_count": 60,
     "metadata": {},
     "output_type": "execute_result"
    }
   ],
   "source": [
    "df_nyc_sales.var()"
   ]
  },
  {
   "cell_type": "code",
   "execution_count": 61,
   "id": "42a3157b",
   "metadata": {},
   "outputs": [
    {
     "data": {
      "text/html": [
       "<div>\n",
       "<style scoped>\n",
       "    .dataframe tbody tr th:only-of-type {\n",
       "        vertical-align: middle;\n",
       "    }\n",
       "\n",
       "    .dataframe tbody tr th {\n",
       "        vertical-align: top;\n",
       "    }\n",
       "\n",
       "    .dataframe thead th {\n",
       "        text-align: right;\n",
       "    }\n",
       "</style>\n",
       "<table border=\"1\" class=\"dataframe\">\n",
       "  <thead>\n",
       "    <tr style=\"text-align: right;\">\n",
       "      <th></th>\n",
       "      <th>BLOCK</th>\n",
       "      <th>LOT</th>\n",
       "      <th>RESIDENTIAL UNITS</th>\n",
       "      <th>COMMERCIAL UNITS</th>\n",
       "      <th>TOTAL UNITS</th>\n",
       "      <th>LAND SQUARE FEET</th>\n",
       "      <th>GROSS SQUARE FEET</th>\n",
       "      <th>SALE PRICE</th>\n",
       "    </tr>\n",
       "    <tr>\n",
       "      <th>BOROUGH</th>\n",
       "      <th></th>\n",
       "      <th></th>\n",
       "      <th></th>\n",
       "      <th></th>\n",
       "      <th></th>\n",
       "      <th></th>\n",
       "      <th></th>\n",
       "      <th></th>\n",
       "    </tr>\n",
       "  </thead>\n",
       "  <tbody>\n",
       "    <tr>\n",
       "      <th>Bronx</th>\n",
       "      <td>14970519</td>\n",
       "      <td>1128037</td>\n",
       "      <td>7308</td>\n",
       "      <td>357</td>\n",
       "      <td>7665.0</td>\n",
       "      <td>9350376.0</td>\n",
       "      <td>8151877.0</td>\n",
       "      <td>46503.852270</td>\n",
       "    </tr>\n",
       "    <tr>\n",
       "      <th>Brooklyn</th>\n",
       "      <td>48541074</td>\n",
       "      <td>4864261</td>\n",
       "      <td>20879</td>\n",
       "      <td>1130</td>\n",
       "      <td>22009.0</td>\n",
       "      <td>18971748.0</td>\n",
       "      <td>19925993.0</td>\n",
       "      <td>158373.458944</td>\n",
       "    </tr>\n",
       "    <tr>\n",
       "      <th>Manhattan</th>\n",
       "      <td>5477518</td>\n",
       "      <td>7029041</td>\n",
       "      <td>6425</td>\n",
       "      <td>107</td>\n",
       "      <td>6532.0</td>\n",
       "      <td>12198592.0</td>\n",
       "      <td>9712471.0</td>\n",
       "      <td>74994.751204</td>\n",
       "    </tr>\n",
       "    <tr>\n",
       "      <th>Queens</th>\n",
       "      <td>93951107</td>\n",
       "      <td>3468906</td>\n",
       "      <td>18489</td>\n",
       "      <td>828</td>\n",
       "      <td>19317.0</td>\n",
       "      <td>38403757.0</td>\n",
       "      <td>23171566.0</td>\n",
       "      <td>167657.564378</td>\n",
       "    </tr>\n",
       "    <tr>\n",
       "      <th>Staten Island</th>\n",
       "      <td>18248842</td>\n",
       "      <td>1115279</td>\n",
       "      <td>6886</td>\n",
       "      <td>179</td>\n",
       "      <td>7065.0</td>\n",
       "      <td>20133255.0</td>\n",
       "      <td>9384417.0</td>\n",
       "      <td>70877.100089</td>\n",
       "    </tr>\n",
       "  </tbody>\n",
       "</table>\n",
       "</div>"
      ],
      "text/plain": [
       "                  BLOCK      LOT  RESIDENTIAL UNITS  COMMERCIAL UNITS  \\\n",
       "BOROUGH                                                                 \n",
       "Bronx          14970519  1128037               7308               357   \n",
       "Brooklyn       48541074  4864261              20879              1130   \n",
       "Manhattan       5477518  7029041               6425               107   \n",
       "Queens         93951107  3468906              18489               828   \n",
       "Staten Island  18248842  1115279               6886               179   \n",
       "\n",
       "               TOTAL UNITS  LAND SQUARE FEET  GROSS SQUARE FEET     SALE PRICE  \n",
       "BOROUGH                                                                         \n",
       "Bronx               7665.0         9350376.0          8151877.0   46503.852270  \n",
       "Brooklyn           22009.0        18971748.0         19925993.0  158373.458944  \n",
       "Manhattan           6532.0        12198592.0          9712471.0   74994.751204  \n",
       "Queens             19317.0        38403757.0         23171566.0  167657.564378  \n",
       "Staten Island       7065.0        20133255.0          9384417.0   70877.100089  "
      ]
     },
     "execution_count": 61,
     "metadata": {},
     "output_type": "execute_result"
    }
   ],
   "source": [
    "df_borough = df_nyc_sales.groupby('BOROUGH', axis=0).sum()\n",
    "df_borough"
   ]
  },
  {
   "attachments": {},
   "cell_type": "markdown",
   "id": "3ca59f31",
   "metadata": {},
   "source": [
    "Dengan melihat data diatas, apakah harga rata rata per unit pada borough Staten Island lebih besar secara signifikan daripada Bronx?\n",
    "<ol>\n",
    "<li>h0 = Tidak ada perbedaan secara signifikan pada harga rata rata perunit antara borough Staten Island dan Bronx</li>\n",
    "<li>h1 = Terdapat perbedaan secara signifikan pada harga rata rata per unit antara borugh Staten Island dan Bronx</li>\n",
    "</ol>"
   ]
  },
  {
   "cell_type": "code",
   "execution_count": 62,
   "id": "297e8f43",
   "metadata": {},
   "outputs": [],
   "source": [
    "Bronx = df_nyc_sales[df_nyc_sales['BOROUGH']=='Bronx']\n",
    "Staten_Island = df_nyc_sales[df_nyc_sales['BOROUGH']=='Staten Island']"
   ]
  },
  {
   "cell_type": "code",
   "execution_count": 63,
   "id": "d1d29986",
   "metadata": {},
   "outputs": [
    {
     "data": {
      "text/plain": [
       "(7665.0, 13.000797391746934, 0.5896243066306038)"
      ]
     },
     "execution_count": 63,
     "metadata": {},
     "output_type": "execute_result"
    }
   ],
   "source": [
    "total_unit_Bronx = df_borough.iloc[0, 4]\n",
    "mu_Bronx = Bronx['SALE PRICE'].mean()\n",
    "std_Bronx = Bronx['SALE PRICE'].std()\n",
    "total_unit_Bronx, mu_Bronx, std_Bronx"
   ]
  },
  {
   "cell_type": "code",
   "execution_count": 64,
   "id": "4523eb2f",
   "metadata": {},
   "outputs": [
    {
     "data": {
      "text/plain": [
       "(7065.0, 13.040864781783236, 0.4349173263768119)"
      ]
     },
     "execution_count": 64,
     "metadata": {},
     "output_type": "execute_result"
    }
   ],
   "source": [
    "total_unit_SI = df_borough.iloc[-1, 4]\n",
    "mu_SI = Staten_Island['SALE PRICE'].mean()\n",
    "std_SI = Staten_Island['SALE PRICE'].std()\n",
    "total_unit_SI, mu_SI, std_SI"
   ]
  },
  {
   "cell_type": "code",
   "execution_count": 65,
   "id": "2143a3bc",
   "metadata": {
    "scrolled": false
   },
   "outputs": [
    {
     "name": "stdout",
     "output_type": "stream",
     "text": [
      "pval:  0.00020998748814337698\n",
      "reject null hypothesis\n"
     ]
    }
   ],
   "source": [
    "from statsmodels.stats.weightstats import ztest\n",
    "ztest, pval= ztest(Staten_Island['SALE PRICE'],Bronx['SALE PRICE'])\n",
    "print(\"pval: \",float(pval))\n",
    "if pval<0.05:\n",
    "    print(\"reject null hypothesis\")\n",
    "else:\n",
    "    print(\"accept null hypothesis\")"
   ]
  },
  {
   "attachments": {},
   "cell_type": "markdown",
   "id": "14041047",
   "metadata": {},
   "source": [
    "<b>ANALISIS</b>\n",
    "</br>\n",
    "Karena nilai p-value 0.00020998748814337698 sangat kecil dan nilainya kurang dari atau sama dengan alpha (0.05)"
   ]
  },
  {
   "attachments": {},
   "cell_type": "markdown",
   "id": "428b25b5",
   "metadata": {},
   "source": [
    "# Overall Analysis"
   ]
  },
  {
   "attachments": {},
   "cell_type": "markdown",
   "id": "1da0d1ca",
   "metadata": {},
   "source": [
    "<b>Kesimpulan :</b>Dengan hasil ini dapat ditarik kesimpulan bahwa terdapat perbedaan yang cukup signifikan pada harga rata-rata per unit antara borugh Staten Island dengan Bronx"
   ]
  },
  {
   "cell_type": "code",
   "execution_count": null,
   "id": "5cbec9ab",
   "metadata": {},
   "outputs": [],
   "source": []
  }
 ],
 "metadata": {
  "kernelspec": {
   "display_name": "Python 3 (ipykernel)",
   "language": "python",
   "name": "python3"
  },
  "language_info": {
   "codemirror_mode": {
    "name": "ipython",
    "version": 3
   },
   "file_extension": ".py",
   "mimetype": "text/x-python",
   "name": "python",
   "nbconvert_exporter": "python",
   "pygments_lexer": "ipython3",
   "version": "3.9.13"
  },
  "toc": {
   "base_numbering": 1,
   "nav_menu": {},
   "number_sections": false,
   "sideBar": true,
   "skip_h1_title": false,
   "title_cell": "Table of Contents",
   "title_sidebar": "Contents",
   "toc_cell": false,
   "toc_position": {
    "height": "calc(100% - 180px)",
    "left": "10px",
    "top": "150px",
    "width": "341.333px"
   },
   "toc_section_display": true,
   "toc_window_display": false
  }
 },
 "nbformat": 4,
 "nbformat_minor": 5
}
